{
 "cells": [
  {
   "cell_type": "code",
   "execution_count": 1,
   "id": "a2e9b2d1",
   "metadata": {},
   "outputs": [],
   "source": [
    "from tqdm import tqdm"
   ]
  },
  {
   "cell_type": "code",
   "execution_count": 2,
   "id": "c51a666e",
   "metadata": {},
   "outputs": [],
   "source": [
    "import torchvision"
   ]
  },
  {
   "cell_type": "code",
   "execution_count": 3,
   "id": "bf116df5",
   "metadata": {},
   "outputs": [],
   "source": [
    "from glob import glob\n",
    "import os\n",
    "import matplotlib.pyplot as plt\n",
    "from torchvision import transforms\n",
    "from torchvision import models\n",
    "import torch\n",
    "from torch.autograd import Variable\n",
    "import torch.nn as nn\n",
    "from torch.optim import lr_scheduler\n",
    "from torch import optim\n",
    "from torchvision.utils import make_grid\n",
    "from torch.utils.data import Dataset\n",
    "import torch.nn.functional as F\n",
    "import time\n",
    "%matplotlib inline"
   ]
  },
  {
   "cell_type": "code",
   "execution_count": 4,
   "id": "db498a11",
   "metadata": {},
   "outputs": [],
   "source": [
    "import matplotlib.pyplot as plt"
   ]
  },
  {
   "cell_type": "code",
   "execution_count": 5,
   "id": "6902468b",
   "metadata": {},
   "outputs": [],
   "source": [
    "import joblib\n",
    "import numpy as np"
   ]
  },
  {
   "cell_type": "code",
   "execution_count": 6,
   "id": "9a729778",
   "metadata": {},
   "outputs": [],
   "source": [
    "# skip\n",
    "# train_x = joblib.load('./train_fmnist_x_exp_02.pkl')\n",
    "# train_y = joblib.load('./train_fmnist_y_exp_02.pkl')\n",
    "\n",
    "# train_x = joblib.load('./train_fmnist_x_exp_inf.pkl')\n",
    "# train_y = joblib.load('./train_fmnist_y_exp_inf.pkl')\n",
    "\n",
    "# train_x = joblib.load('./train_mnist_x_exp_inf.pkl')\n",
    "# train_y = joblib.load('./train_mnist_y_exp_inf.pkl')\n",
    "\n",
    "# train_x = joblib.load('./train_mnist_x_exp10_k5.pkl')\n",
    "# train_y = joblib.load('./train_mnist_y_exp10_k5.pkl')\n"
   ]
  },
  {
   "cell_type": "code",
   "execution_count": 7,
   "id": "6aff6830",
   "metadata": {},
   "outputs": [],
   "source": [
    "# len(train_x), len(train_y)"
   ]
  },
  {
   "cell_type": "code",
   "execution_count": 8,
   "id": "9ff3c72f",
   "metadata": {},
   "outputs": [],
   "source": [
    "import torch"
   ]
  },
  {
   "cell_type": "code",
   "execution_count": 9,
   "id": "416f5b23",
   "metadata": {},
   "outputs": [],
   "source": [
    "from torchvision.datasets import FashionMNIST, MNIST"
   ]
  },
  {
   "cell_type": "code",
   "execution_count": 10,
   "id": "30f82bd2",
   "metadata": {},
   "outputs": [],
   "source": [
    "class TrainFMNIST(Dataset):\n",
    "    \n",
    "    def __init__(self, x, y):\n",
    "        \n",
    "        self.x = torch.tensor(x).float()\n",
    "        self.y = torch.tensor(y).float()\n",
    "        \n",
    "    def __len__(self):\n",
    "        return len(self.y)\n",
    "    \n",
    "    def __getitem__(self, index):   \n",
    "        sample = [self.x[index][:1, ...], int(torch.argmax(self.y[index]))]\n",
    "        \n",
    "        return sample\n"
   ]
  },
  {
   "cell_type": "code",
   "execution_count": 11,
   "id": "ad801e97",
   "metadata": {},
   "outputs": [],
   "source": [
    "train_transform = transforms.Compose([\n",
    "    transforms.Resize(28),\n",
    "    transforms.ToTensor()\n",
    "])\n",
    "train_dl = FashionMNIST(os.path.join('./exp', 'datasets', 'fashion_mnist_test'), train=True, download=True,\n",
    "                               transform=train_transform)"
   ]
  },
  {
   "cell_type": "code",
   "execution_count": 12,
   "id": "431b5bf6",
   "metadata": {},
   "outputs": [],
   "source": [
    "x, y = train_dl[0]"
   ]
  },
  {
   "cell_type": "code",
   "execution_count": 13,
   "id": "5a80db45",
   "metadata": {},
   "outputs": [
    {
     "data": {
      "text/plain": [
       "9"
      ]
     },
     "execution_count": 13,
     "metadata": {},
     "output_type": "execute_result"
    }
   ],
   "source": [
    "y"
   ]
  },
  {
   "cell_type": "code",
   "execution_count": 14,
   "id": "0dbf644c",
   "metadata": {},
   "outputs": [
    {
     "data": {
      "text/plain": [
       "(torch.Size([1, 28, 28]), 9)"
      ]
     },
     "execution_count": 14,
     "metadata": {},
     "output_type": "execute_result"
    }
   ],
   "source": [
    "x.shape, y"
   ]
  },
  {
   "cell_type": "code",
   "execution_count": 15,
   "id": "05b1fe2d",
   "metadata": {},
   "outputs": [],
   "source": [
    "test_transform = transforms.Compose([\n",
    "    transforms.Resize(28),\n",
    "    transforms.ToTensor()\n",
    "])\n",
    "\n",
    "valid_dl = FashionMNIST(os.path.join('./exp', 'datasets', 'fashion_mnist_test'), train=False, download=True,\n",
    "                               transform=test_transform)\n"
   ]
  },
  {
   "cell_type": "code",
   "execution_count": 16,
   "id": "28d4b954",
   "metadata": {},
   "outputs": [],
   "source": [
    "# test_transform = transforms.Compose([\n",
    "#     transforms.Resize(28),\n",
    "#     transforms.ToTensor()\n",
    "# ])\n",
    "\n",
    "# valid_dl = MNIST(os.path.join('./exp', 'datasets', 'mnist_test'), train=False, download=True,\n",
    "#                                transform=test_transform)\n"
   ]
  },
  {
   "cell_type": "code",
   "execution_count": 17,
   "id": "db090203",
   "metadata": {},
   "outputs": [],
   "source": [
    "x, y = valid_dl[0]"
   ]
  },
  {
   "cell_type": "code",
   "execution_count": 18,
   "id": "4568760f",
   "metadata": {},
   "outputs": [
    {
     "data": {
      "text/plain": [
       "(torch.Size([1, 28, 28]), 9)"
      ]
     },
     "execution_count": 18,
     "metadata": {},
     "output_type": "execute_result"
    }
   ],
   "source": [
    "x.shape, y"
   ]
  },
  {
   "cell_type": "code",
   "execution_count": 19,
   "id": "91de11ed",
   "metadata": {},
   "outputs": [],
   "source": [
    "train_dataloader = torch.utils.data.DataLoader(train_dl, shuffle = True, batch_size = 256, num_workers = 4)\n",
    "valid_dataloader = torch.utils.data.DataLoader(valid_dl, shuffle = True, batch_size = 256, num_workers = 4)\n"
   ]
  },
  {
   "cell_type": "code",
   "execution_count": 20,
   "id": "743db226",
   "metadata": {},
   "outputs": [
    {
     "data": {
      "text/plain": [
       "<matplotlib.image.AxesImage at 0x7f8dc29f15e0>"
      ]
     },
     "execution_count": 20,
     "metadata": {},
     "output_type": "execute_result"
    },
    {
     "data": {
      "image/png": "[encoded data removed]",
      "text/plain": [
       "<Figure size 640x480 with 1 Axes>"
      ]
     },
     "metadata": {},
     "output_type": "display_data"
    }
   ],
   "source": [
    "plt.imshow(torchvision.utils.make_grid(train_dl[6][0]).permute(1, 2, 0))"
   ]
  },
  {
   "cell_type": "code",
   "execution_count": 21,
   "id": "5bc8ac98",
   "metadata": {},
   "outputs": [
    {
     "data": {
      "text/plain": [
       "<matplotlib.image.AxesImage at 0x7f8dc28eb3d0>"
      ]
     },
     "execution_count": 21,
     "metadata": {},
     "output_type": "execute_result"
    },
    {
     "data": {
      "image/png": "[encoded data removed]",
      "text/plain": [
       "<Figure size 640x480 with 1 Axes>"
      ]
     },
     "metadata": {},
     "output_type": "display_data"
    }
   ],
   "source": [
    "plt.imshow(torchvision.utils.make_grid(valid_dl[6][0]).permute(1, 2, 0))"
   ]
  },
  {
   "cell_type": "code",
   "execution_count": 22,
   "id": "c02c00de",
   "metadata": {},
   "outputs": [],
   "source": [
    "class MultiClassifier(nn.Module):\n",
    "    def __init__(self):\n",
    "        super(MultiClassifier, self).__init__()\n",
    "        self.ConvLayer1 = nn.Sequential(\n",
    "            nn.Conv2d(1, 32, 3), # 3, 256, 256\n",
    "            nn.MaxPool2d(2), # op: 16, 127, 127\n",
    "            nn.ReLU(), # op: 64, 127, 127\n",
    "            nn.Dropout(0.2),\n",
    "        )\n",
    "        self.ConvLayer2 = nn.Sequential(\n",
    "            nn.Conv2d(32, 64, 3), # 64, 127, 127   \n",
    "            nn.MaxPool2d(2), #op: 128, 63, 63\n",
    "            nn.ReLU(), # op: 128, 63, 63\n",
    "            nn.Dropout(0.25),\n",
    "        )\n",
    "        \n",
    "        self.Linear1 = nn.Linear(1600, 64)\n",
    "        self.Linear2 = nn.Linear(64, 10)\n",
    "        \n",
    "        \n",
    "        \n",
    "    def forward(self, x):\n",
    "        x = self.ConvLayer1(x)\n",
    "        x = self.ConvLayer2(x)        \n",
    "        x = x.view(x.size(0), -1)\n",
    "        x = self.Linear1(x)\n",
    "        x = self.Linear2(x)\n",
    "        return F.softmax(x)\n",
    "\n"
   ]
  },
  {
   "cell_type": "code",
   "execution_count": 23,
   "id": "8a97c8a7",
   "metadata": {},
   "outputs": [],
   "source": [
    "def check_cuda():\n",
    "    _cuda = False\n",
    "    if torch.cuda.is_available():\n",
    "        _cuda = True\n",
    "    return _cuda\n"
   ]
  },
  {
   "cell_type": "code",
   "execution_count": 24,
   "id": "9c200e0a",
   "metadata": {},
   "outputs": [],
   "source": [
    "is_cuda = check_cuda()\n"
   ]
  },
  {
   "cell_type": "code",
   "execution_count": 25,
   "id": "e7ecf989",
   "metadata": {},
   "outputs": [],
   "source": [
    "model = MultiClassifier()\n",
    "if is_cuda:\n",
    "    model.cuda()\n"
   ]
  },
  {
   "cell_type": "code",
   "execution_count": 26,
   "id": "809ccc44",
   "metadata": {},
   "outputs": [],
   "source": [
    "x = train_dl[0][0].unsqueeze(0).cuda()"
   ]
  },
  {
   "cell_type": "code",
   "execution_count": 27,
   "id": "1d571548",
   "metadata": {},
   "outputs": [
    {
     "name": "stderr",
     "output_type": "stream",
     "text": [
      "/tmp/ipykernel_1236986/1466334388.py:28: UserWarning: Implicit dimension choice for softmax has been deprecated. Change the call to include dim=X as an argument.\n",
      "  return F.softmax(x)\n"
     ]
    },
    {
     "data": {
      "text/plain": [
       "torch.Size([1, 10])"
      ]
     },
     "execution_count": 27,
     "metadata": {},
     "output_type": "execute_result"
    }
   ],
   "source": [
    "model(x).shape"
   ]
  },
  {
   "cell_type": "code",
   "execution_count": 28,
   "id": "e2080a64",
   "metadata": {},
   "outputs": [],
   "source": [
    "train_dataloader = torch.utils.data.DataLoader(train_dl, shuffle = True, batch_size = 256, num_workers = 4)\n",
    "valid_dataloader = torch.utils.data.DataLoader(valid_dl, shuffle = True, batch_size = 256, num_workers = 4)\n"
   ]
  },
  {
   "cell_type": "code",
   "execution_count": 29,
   "id": "cef5db9b",
   "metadata": {},
   "outputs": [],
   "source": [
    "def pred_acc(original, predicted):\n",
    "    return torch.round(predicted).eq(original).sum().numpy()/len(original)\n"
   ]
  },
  {
   "cell_type": "code",
   "execution_count": 30,
   "id": "c54030b6",
   "metadata": {},
   "outputs": [],
   "source": [
    "criterion = nn.BCELoss()\n",
    "# optimizer = optim.SGD(model.parameters(), lr = 0.0001, momentum = 0.9)\n",
    "optimizer = optim.SGD(model.parameters(), lr = 3e-1)\n",
    "# optimizer = optim.Adam(model.parameters(), lr = 0.01)\n"
   ]
  },
  {
   "cell_type": "code",
   "execution_count": 31,
   "id": "043aad56",
   "metadata": {},
   "outputs": [],
   "source": [
    "from pprint import pprint\n"
   ]
  },
  {
   "cell_type": "code",
   "execution_count": 32,
   "id": "431a96af",
   "metadata": {},
   "outputs": [
    {
     "data": {
      "text/plain": [
       "MultiClassifier(\n",
       "  (ConvLayer1): Sequential(\n",
       "    (0): Conv2d(1, 32, kernel_size=(3, 3), stride=(1, 1))\n",
       "    (1): MaxPool2d(kernel_size=2, stride=2, padding=0, dilation=1, ceil_mode=False)\n",
       "    (2): ReLU()\n",
       "    (3): Dropout(p=0.2, inplace=False)\n",
       "  )\n",
       "  (ConvLayer2): Sequential(\n",
       "    (0): Conv2d(32, 64, kernel_size=(3, 3), stride=(1, 1))\n",
       "    (1): MaxPool2d(kernel_size=2, stride=2, padding=0, dilation=1, ceil_mode=False)\n",
       "    (2): ReLU()\n",
       "    (3): Dropout(p=0.25, inplace=False)\n",
       "  )\n",
       "  (Linear1): Linear(in_features=1600, out_features=64, bias=True)\n",
       "  (Linear2): Linear(in_features=64, out_features=10, bias=True)\n",
       ")"
      ]
     },
     "execution_count": 32,
     "metadata": {},
     "output_type": "execute_result"
    }
   ],
   "source": [
    "model.train()"
   ]
  },
  {
   "cell_type": "code",
   "execution_count": 33,
   "id": "c4c426cb",
   "metadata": {},
   "outputs": [],
   "source": [
    "def fit_model(epochs, model, dataloader, phase = 'training', volatile = False):\n",
    "\n",
    "    if phase == 'training':\n",
    "        model.train()\n",
    "        \n",
    "    if phase == 'validataion':\n",
    "        model.eval()\n",
    "        volatile = True\n",
    "        \n",
    "    running_loss = []\n",
    "    running_acc = []\n",
    "    \n",
    "    for i, data in enumerate(dataloader):\n",
    "        \n",
    "        inputs, target = data[0].cuda(), torch.eye(10)[data[1]].cuda()        \n",
    "        inputs, target = Variable(inputs), Variable(target)\n",
    "        \n",
    "        if phase == 'training':\n",
    "            optimizer.zero_grad()\n",
    "            \n",
    "        ops = model(inputs)\n",
    "        \n",
    "        acc_ = []\n",
    "        for i, d in enumerate(ops, 0):\n",
    "           \n",
    "            acc = pred_acc(torch.Tensor.cpu(target[i]), torch.Tensor.cpu(d))\n",
    "            acc_.append(acc)\n",
    "\n",
    "        loss = criterion(ops, target)\n",
    "                \n",
    "        running_loss.append(loss.item())\n",
    "        running_acc.append(np.asarray(acc_).mean())\n",
    "       \n",
    "        if phase == 'training':\n",
    "            loss.backward()\n",
    "            optimizer.step()\n",
    "            \n",
    "    total_batch_loss = np.asarray(running_loss).mean()\n",
    "    total_batch_acc = np.asarray(running_acc).mean()\n",
    "\n",
    "    if epochs % 100 == 0:\n",
    "        pprint(\"Epoch: {}\".format(epochs))\n",
    "        pprint(\"{} loss is {} \".format(phase,total_batch_loss))\n",
    "        pprint(\"{} accuracy is {} \".format(phase, total_batch_acc))\n",
    "\n",
    "    \n",
    "    return total_batch_loss, total_batch_acc\n"
   ]
  },
  {
   "cell_type": "code",
   "execution_count": 34,
   "id": "dd6fe882",
   "metadata": {},
   "outputs": [],
   "source": [
    "inputs, target = next(iter(train_dataloader))"
   ]
  },
  {
   "cell_type": "code",
   "execution_count": 35,
   "id": "135ad7bf",
   "metadata": {},
   "outputs": [
    {
     "name": "stderr",
     "output_type": "stream",
     "text": [
      "/tmp/ipykernel_1236986/1466334388.py:28: UserWarning: Implicit dimension choice for softmax has been deprecated. Change the call to include dim=X as an argument.\n",
      "  return F.softmax(x)\n"
     ]
    }
   ],
   "source": [
    "ops = model(inputs.cuda())"
   ]
  },
  {
   "cell_type": "code",
   "execution_count": 36,
   "id": "8db2acc8",
   "metadata": {},
   "outputs": [],
   "source": [
    "trn_losses = []; trn_acc = []\n",
    "val_losses = []; val_acc = []\n"
   ]
  },
  {
   "cell_type": "code",
   "execution_count": 37,
   "id": "60c0c59f",
   "metadata": {},
   "outputs": [
    {
     "name": "stderr",
     "output_type": "stream",
     "text": [
      "  0%|          | 0/2499 [00:00<?, ?it/s]/tmp/ipykernel_1236986/1466334388.py:28: UserWarning: Implicit dimension choice for softmax has been deprecated. Change the call to include dim=X as an argument.\n",
      "  return F.softmax(x)\n",
      "  4%|▍         | 99/2499 [16:51<6:48:21, 10.21s/it]"
     ]
    },
    {
     "name": "stdout",
     "output_type": "stream",
     "text": [
      "'Epoch: 100'\n",
      "'training loss is 0.04313432018649071 '\n",
      "'training accuracy is 0.9829061391843972 '\n"
     ]
    },
    {
     "name": "stderr",
     "output_type": "stream",
     "text": [
      "  4%|▍         | 100/2499 [17:01<6:48:04, 10.21s/it]"
     ]
    },
    {
     "name": "stdout",
     "output_type": "stream",
     "text": [
      "'Epoch: 100'\n",
      "'validation loss is 0.05412314934656024 '\n",
      "'validation accuracy is 0.978134765625 '\n"
     ]
    },
    {
     "name": "stderr",
     "output_type": "stream",
     "text": [
      "  8%|▊         | 199/2499 [33:22<6:29:59, 10.17s/it]"
     ]
    },
    {
     "name": "stdout",
     "output_type": "stream",
     "text": [
      "'Epoch: 200'\n",
      "'training loss is 0.036926391292759715 '\n",
      "'training accuracy is 0.9854931294326241 '\n"
     ]
    },
    {
     "name": "stderr",
     "output_type": "stream",
     "text": [
      "  8%|▊         | 200/2499 [33:32<6:30:07, 10.18s/it]"
     ]
    },
    {
     "name": "stdout",
     "output_type": "stream",
     "text": [
      "'Epoch: 200'\n",
      "'validation loss is 0.05277832660358399 '\n",
      "'validation accuracy is 0.9805566406249999 '\n"
     ]
    },
    {
     "name": "stderr",
     "output_type": "stream",
     "text": [
      " 12%|█▏        | 299/2499 [50:15<5:59:52,  9.81s/it]"
     ]
    },
    {
     "name": "stdout",
     "output_type": "stream",
     "text": [
      "'Epoch: 300'\n",
      "'training loss is 0.03384343407097015 '\n",
      "'training accuracy is 0.986811835106383 '\n"
     ]
    },
    {
     "name": "stderr",
     "output_type": "stream",
     "text": [
      " 12%|█▏        | 300/2499 [50:25<6:01:31,  9.86s/it]"
     ]
    },
    {
     "name": "stdout",
     "output_type": "stream",
     "text": [
      "'Epoch: 300'\n",
      "'validation loss is 0.04975125547498464 '\n",
      "'validation accuracy is 0.98154296875 '\n"
     ]
    },
    {
     "name": "stderr",
     "output_type": "stream",
     "text": [
      " 16%|█▌        | 399/2499 [1:07:03<6:00:24, 10.30s/it]"
     ]
    },
    {
     "name": "stdout",
     "output_type": "stream",
     "text": [
      "'Epoch: 400'\n",
      "'training loss is 0.032039568937839345 '\n",
      "'training accuracy is 0.9873891843971632 '\n"
     ]
    },
    {
     "name": "stderr",
     "output_type": "stream",
     "text": [
      " 16%|█▌        | 400/2499 [1:07:13<5:58:05, 10.24s/it]"
     ]
    },
    {
     "name": "stdout",
     "output_type": "stream",
     "text": [
      "'Epoch: 400'\n",
      "'validation loss is 0.05245669540017843 '\n",
      "'validation accuracy is 0.98033203125 '\n"
     ]
    },
    {
     "name": "stderr",
     "output_type": "stream",
     "text": [
      " 20%|█▉        | 499/2499 [1:24:02<5:37:57, 10.14s/it]"
     ]
    },
    {
     "name": "stdout",
     "output_type": "stream",
     "text": [
      "'Epoch: 500'\n",
      "'training loss is 0.03083779036681703 '\n",
      "'training accuracy is 0.9879393838652483 '\n"
     ]
    },
    {
     "name": "stderr",
     "output_type": "stream",
     "text": [
      " 20%|██        | 500/2499 [1:24:11<5:29:34,  9.89s/it]"
     ]
    },
    {
     "name": "stdout",
     "output_type": "stream",
     "text": [
      "'Epoch: 500'\n",
      "'validation loss is 0.049876814056187865 '\n",
      "'validation accuracy is 0.9815722656249999 '\n"
     ]
    },
    {
     "name": "stderr",
     "output_type": "stream",
     "text": [
      " 24%|██▍       | 599/2499 [1:40:53<5:33:14, 10.52s/it]"
     ]
    },
    {
     "name": "stdout",
     "output_type": "stream",
     "text": [
      "'Epoch: 600'\n",
      "'training loss is 0.030009589130257038 '\n",
      "'training accuracy is 0.9881477171985814 '\n"
     ]
    },
    {
     "name": "stderr",
     "output_type": "stream",
     "text": [
      " 24%|██▍       | 600/2499 [1:41:03<5:27:29, 10.35s/it]"
     ]
    },
    {
     "name": "stdout",
     "output_type": "stream",
     "text": [
      "'Epoch: 600'\n",
      "'validation loss is 0.05140655115246773 '\n",
      "'validation accuracy is 0.9818554687500001 '\n"
     ]
    },
    {
     "name": "stderr",
     "output_type": "stream",
     "text": [
      " 28%|██▊       | 699/2499 [1:57:36<5:09:50, 10.33s/it]"
     ]
    },
    {
     "name": "stdout",
     "output_type": "stream",
     "text": [
      "'Epoch: 700'\n",
      "'training loss is 0.029206913380705295 '\n",
      "'training accuracy is 0.988584330673759 '\n"
     ]
    },
    {
     "name": "stderr",
     "output_type": "stream",
     "text": [
      " 28%|██▊       | 700/2499 [1:57:46<5:03:35, 10.13s/it]"
     ]
    },
    {
     "name": "stdout",
     "output_type": "stream",
     "text": [
      "'Epoch: 700'\n",
      "'validation loss is 0.05207370067946613 '\n",
      "'validation accuracy is 0.980927734375 '\n"
     ]
    },
    {
     "name": "stderr",
     "output_type": "stream",
     "text": [
      " 32%|███▏      | 799/2499 [2:13:54<4:39:23,  9.86s/it]"
     ]
    },
    {
     "name": "stdout",
     "output_type": "stream",
     "text": [
      "'Epoch: 800'\n",
      "'training loss is 0.028548181774292854 '\n",
      "'training accuracy is 0.9886829565602836 '\n"
     ]
    },
    {
     "name": "stderr",
     "output_type": "stream",
     "text": [
      " 32%|███▏      | 800/2499 [2:14:05<4:43:10, 10.00s/it]"
     ]
    },
    {
     "name": "stdout",
     "output_type": "stream",
     "text": [
      "'Epoch: 800'\n",
      "'validation loss is 0.053215362085029486 '\n",
      "'validation accuracy is 0.9808007812500001 '\n"
     ]
    },
    {
     "name": "stderr",
     "output_type": "stream",
     "text": [
      " 36%|███▌      | 899/2499 [2:30:50<5:10:00, 11.63s/it]"
     ]
    },
    {
     "name": "stdout",
     "output_type": "stream",
     "text": [
      "'Epoch: 900'\n",
      "'training loss is 0.027853373545122906 '\n",
      "'training accuracy is 0.9891544769503547 '\n"
     ]
    },
    {
     "name": "stderr",
     "output_type": "stream",
     "text": [
      " 36%|███▌      | 900/2499 [2:31:01<5:05:26, 11.46s/it]"
     ]
    },
    {
     "name": "stdout",
     "output_type": "stream",
     "text": [
      "'Epoch: 900'\n",
      "'validation loss is 0.050586557714268565 '\n",
      "'validation accuracy is 0.982177734375 '\n"
     ]
    },
    {
     "name": "stderr",
     "output_type": "stream",
     "text": [
      " 40%|███▉      | 999/2499 [2:51:14<4:45:06, 11.40s/it]"
     ]
    },
    {
     "name": "stdout",
     "output_type": "stream",
     "text": [
      "'Epoch: 1000'\n",
      "'training loss is 0.027778721473952557 '\n",
      "'training accuracy is 0.9891095966312056 '\n"
     ]
    },
    {
     "name": "stderr",
     "output_type": "stream",
     "text": [
      " 40%|████      | 1000/2499 [2:51:26<4:47:08, 11.49s/it]"
     ]
    },
    {
     "name": "stdout",
     "output_type": "stream",
     "text": [
      "'Epoch: 1000'\n",
      "'validation loss is 0.05779840741306543 '\n",
      "'validation accuracy is 0.97978515625 '\n"
     ]
    },
    {
     "name": "stderr",
     "output_type": "stream",
     "text": [
      " 44%|████▍     | 1099/2499 [3:09:54<4:20:03, 11.15s/it]"
     ]
    },
    {
     "name": "stdout",
     "output_type": "stream",
     "text": [
      "'Epoch: 1100'\n",
      "'training loss is 0.027524754206867928 '\n",
      "'training accuracy is 0.9891971409574468 '\n"
     ]
    },
    {
     "name": "stderr",
     "output_type": "stream",
     "text": [
      " 44%|████▍     | 1100/2499 [3:10:06<4:21:50, 11.23s/it]"
     ]
    },
    {
     "name": "stdout",
     "output_type": "stream",
     "text": [
      "'Epoch: 1100'\n",
      "'validation loss is 0.05414641425013542 '\n",
      "'validation accuracy is 0.98021484375 '\n"
     ]
    },
    {
     "name": "stderr",
     "output_type": "stream",
     "text": [
      " 48%|████▊     | 1199/2499 [3:29:24<4:33:34, 12.63s/it]"
     ]
    },
    {
     "name": "stdout",
     "output_type": "stream",
     "text": [
      "'Epoch: 1200'\n",
      "'training loss is 0.027247973674155296 '\n",
      "'training accuracy is 0.9893971631205674 '\n"
     ]
    },
    {
     "name": "stderr",
     "output_type": "stream",
     "text": [
      " 48%|████▊     | 1200/2499 [3:29:36<4:31:49, 12.56s/it]"
     ]
    },
    {
     "name": "stdout",
     "output_type": "stream",
     "text": [
      "'Epoch: 1200'\n",
      "'validation loss is 0.052450158470310274 '\n",
      "'validation accuracy is 0.9826269531250003 '\n"
     ]
    },
    {
     "name": "stderr",
     "output_type": "stream",
     "text": [
      " 52%|█████▏    | 1299/2499 [3:49:53<4:04:53, 12.24s/it]"
     ]
    },
    {
     "name": "stdout",
     "output_type": "stream",
     "text": [
      "'Epoch: 1300'\n",
      "'training loss is 0.026557825775222574 '\n",
      "'training accuracy is 0.9895711436170211 '\n"
     ]
    },
    {
     "name": "stderr",
     "output_type": "stream",
     "text": [
      " 52%|█████▏    | 1300/2499 [3:50:04<3:58:07, 11.92s/it]"
     ]
    },
    {
     "name": "stdout",
     "output_type": "stream",
     "text": [
      "'Epoch: 1300'\n",
      "'validation loss is 0.052037445409223435 '\n",
      "'validation accuracy is 0.98197265625 '\n"
     ]
    },
    {
     "name": "stderr",
     "output_type": "stream",
     "text": [
      " 56%|█████▌    | 1399/2499 [4:11:07<3:52:14, 12.67s/it]"
     ]
    },
    {
     "name": "stdout",
     "output_type": "stream",
     "text": [
      "'Epoch: 1400'\n",
      "'training loss is 0.026508269768129002 '\n",
      "'training accuracy is 0.9895395611702127 '\n"
     ]
    },
    {
     "name": "stderr",
     "output_type": "stream",
     "text": [
      " 56%|█████▌    | 1400/2499 [4:11:19<3:50:24, 12.58s/it]"
     ]
    },
    {
     "name": "stdout",
     "output_type": "stream",
     "text": [
      "'Epoch: 1400'\n",
      "'validation loss is 0.05588441425934434 '\n",
      "'validation accuracy is 0.9807714843750001 '\n"
     ]
    },
    {
     "name": "stderr",
     "output_type": "stream",
     "text": [
      " 60%|█████▉    | 1499/2499 [4:31:57<3:24:23, 12.26s/it]"
     ]
    },
    {
     "name": "stdout",
     "output_type": "stream",
     "text": [
      "'Epoch: 1500'\n",
      "'training loss is 0.026301963302366275 '\n",
      "'training accuracy is 0.9895933067375887 '\n"
     ]
    },
    {
     "name": "stderr",
     "output_type": "stream",
     "text": [
      " 60%|██████    | 1500/2499 [4:32:10<3:23:49, 12.24s/it]"
     ]
    },
    {
     "name": "stdout",
     "output_type": "stream",
     "text": [
      "'Epoch: 1500'\n",
      "'validation loss is 0.0555506038479507 '\n",
      "'validation accuracy is 0.98115234375 '\n"
     ]
    },
    {
     "name": "stderr",
     "output_type": "stream",
     "text": [
      " 64%|██████▍   | 1599/2499 [4:53:13<3:17:39, 13.18s/it]"
     ]
    },
    {
     "name": "stdout",
     "output_type": "stream",
     "text": [
      "'Epoch: 1600'\n",
      "'training loss is 0.02628508354438112 '\n",
      "'training accuracy is 0.9894802748226953 '\n"
     ]
    },
    {
     "name": "stderr",
     "output_type": "stream",
     "text": [
      " 64%|██████▍   | 1600/2499 [4:53:25<3:12:59, 12.88s/it]"
     ]
    },
    {
     "name": "stdout",
     "output_type": "stream",
     "text": [
      "'Epoch: 1600'\n",
      "'validation loss is 0.05846943403594196 '\n",
      "'validation accuracy is 0.97958984375 '\n"
     ]
    },
    {
     "name": "stderr",
     "output_type": "stream",
     "text": [
      " 68%|██████▊   | 1699/2499 [5:14:52<2:57:46, 13.33s/it]"
     ]
    },
    {
     "name": "stdout",
     "output_type": "stream",
     "text": [
      "'Epoch: 1700'\n",
      "'training loss is 0.02578617493681451 '\n",
      "'training accuracy is 0.9899301861702127 '\n"
     ]
    },
    {
     "name": "stderr",
     "output_type": "stream",
     "text": [
      " 68%|██████▊   | 1700/2499 [5:15:04<2:53:53, 13.06s/it]"
     ]
    },
    {
     "name": "stdout",
     "output_type": "stream",
     "text": [
      "'Epoch: 1700'\n",
      "'validation loss is 0.05609704060479999 '\n",
      "'validation accuracy is 0.9806250000000001 '\n"
     ]
    },
    {
     "name": "stderr",
     "output_type": "stream",
     "text": [
      " 72%|███████▏  | 1799/2499 [5:36:13<2:17:32, 11.79s/it]"
     ]
    },
    {
     "name": "stdout",
     "output_type": "stream",
     "text": [
      "'Epoch: 1800'\n",
      "'training loss is 0.025715482599557714 '\n",
      "'training accuracy is 0.9897628546099291 '\n"
     ]
    },
    {
     "name": "stderr",
     "output_type": "stream",
     "text": [
      " 72%|███████▏  | 1800/2499 [5:36:24<2:15:09, 11.60s/it]"
     ]
    },
    {
     "name": "stdout",
     "output_type": "stream",
     "text": [
      "'Epoch: 1800'\n",
      "'validation loss is 0.0542443941347301 '\n",
      "'validation accuracy is 0.981865234375 '\n"
     ]
    },
    {
     "name": "stderr",
     "output_type": "stream",
     "text": [
      " 76%|███████▌  | 1899/2499 [5:57:36<2:07:44, 12.77s/it]"
     ]
    },
    {
     "name": "stdout",
     "output_type": "stream",
     "text": [
      "'Epoch: 1900'\n",
      "'training loss is 0.025551912588800522 '\n",
      "'training accuracy is 0.9899728501773049 '\n"
     ]
    },
    {
     "name": "stderr",
     "output_type": "stream",
     "text": [
      " 76%|███████▌  | 1900/2499 [5:57:50<2:09:45, 13.00s/it]"
     ]
    },
    {
     "name": "stdout",
     "output_type": "stream",
     "text": [
      "'Epoch: 1900'\n",
      "'validation loss is 0.054062449187040326 '\n",
      "'validation accuracy is 0.981416015625 '\n"
     ]
    },
    {
     "name": "stderr",
     "output_type": "stream",
     "text": [
      " 80%|███████▉  | 1999/2499 [6:18:27<1:47:01, 12.84s/it]"
     ]
    },
    {
     "name": "stdout",
     "output_type": "stream",
     "text": [
      "'Epoch: 2000'\n",
      "'training loss is 0.025535716465178958 '\n",
      "'training accuracy is 0.9898720079787233 '\n"
     ]
    },
    {
     "name": "stderr",
     "output_type": "stream",
     "text": [
      " 80%|████████  | 2000/2499 [6:18:40<1:46:55, 12.86s/it]"
     ]
    },
    {
     "name": "stdout",
     "output_type": "stream",
     "text": [
      "'Epoch: 2000'\n",
      "'validation loss is 0.05495442021638155 '\n",
      "'validation accuracy is 0.9816015625000001 '\n"
     ]
    },
    {
     "name": "stderr",
     "output_type": "stream",
     "text": [
      " 84%|████████▍ | 2099/2499 [6:38:48<1:18:58, 11.85s/it]"
     ]
    },
    {
     "name": "stdout",
     "output_type": "stream",
     "text": [
      "'Epoch: 2100'\n",
      "'training loss is 0.025404650020472548 '\n",
      "'training accuracy is 0.9899828235815603 '\n"
     ]
    },
    {
     "name": "stderr",
     "output_type": "stream",
     "text": [
      " 84%|████████▍ | 2100/2499 [6:39:00<1:18:52, 11.86s/it]"
     ]
    },
    {
     "name": "stdout",
     "output_type": "stream",
     "text": [
      "'Epoch: 2100'\n",
      "'validation loss is 0.057704605348408225 '\n",
      "'validation accuracy is 0.9804882812500001 '\n"
     ]
    },
    {
     "name": "stderr",
     "output_type": "stream",
     "text": [
      " 88%|████████▊ | 2199/2499 [6:57:56<55:54, 11.18s/it]  "
     ]
    },
    {
     "name": "stdout",
     "output_type": "stream",
     "text": [
      "'Epoch: 2200'\n",
      "'training loss is 0.025275971899007228 '\n",
      "'training accuracy is 0.9899817154255319 '\n"
     ]
    },
    {
     "name": "stderr",
     "output_type": "stream",
     "text": [
      " 88%|████████▊ | 2200/2499 [6:58:06<55:01, 11.04s/it]"
     ]
    },
    {
     "name": "stdout",
     "output_type": "stream",
     "text": [
      "'Epoch: 2200'\n",
      "'validation loss is 0.0625681190751493 '\n",
      "'validation accuracy is 0.9800976562500001 '\n"
     ]
    },
    {
     "name": "stderr",
     "output_type": "stream",
     "text": [
      " 92%|█████████▏| 2299/2499 [7:15:29<35:10, 10.55s/it]"
     ]
    },
    {
     "name": "stdout",
     "output_type": "stream",
     "text": [
      "'Epoch: 2300'\n",
      "'training loss is 0.02516661714366142 '\n",
      "'training accuracy is 0.9900531914893616 '\n"
     ]
    },
    {
     "name": "stderr",
     "output_type": "stream",
     "text": [
      " 92%|█████████▏| 2300/2499 [7:15:40<35:20, 10.66s/it]"
     ]
    },
    {
     "name": "stdout",
     "output_type": "stream",
     "text": [
      "'Epoch: 2300'\n",
      "'validation loss is 0.05383002798189409 '\n",
      "'validation accuracy is 0.9814550781250002 '\n"
     ]
    },
    {
     "name": "stderr",
     "output_type": "stream",
     "text": [
      " 96%|█████████▌| 2399/2499 [7:32:45<18:52, 11.32s/it]"
     ]
    },
    {
     "name": "stdout",
     "output_type": "stream",
     "text": [
      "'Epoch: 2400'\n",
      "'training loss is 0.025278929708168862 '\n",
      "'training accuracy is 0.9900304742907801 '\n"
     ]
    },
    {
     "name": "stderr",
     "output_type": "stream",
     "text": [
      " 96%|█████████▌| 2400/2499 [7:32:58<19:08, 11.60s/it]"
     ]
    },
    {
     "name": "stdout",
     "output_type": "stream",
     "text": [
      "'Epoch: 2400'\n",
      "'validation loss is 0.053971668356098235 '\n",
      "'validation accuracy is 0.9815332031249999 '\n"
     ]
    },
    {
     "name": "stderr",
     "output_type": "stream",
     "text": [
      "100%|██████████| 2499/2499 [7:51:20<00:00, 11.32s/it]\n"
     ]
    }
   ],
   "source": [
    "for i in tqdm(range(1, 2500)):\n",
    "    trn_l, trn_a = fit_model(i, model, train_dataloader)\n",
    "    val_l, val_a = fit_model(i, model, valid_dataloader, phase = 'validation')\n",
    "    trn_losses.append(trn_l); trn_acc.append(trn_a)\n",
    "    val_losses.append(val_l); val_acc.append(val_a)\n"
   ]
  },
  {
   "cell_type": "code",
   "execution_count": 38,
   "id": "5e7ab7b9",
   "metadata": {},
   "outputs": [
    {
     "data": {
      "text/plain": [
       "[<matplotlib.lines.Line2D at 0x7f8dc5255fd0>]"
      ]
     },
     "execution_count": 38,
     "metadata": {},
     "output_type": "execute_result"
    },
    {
     "data": {
      "image/png": "[encoded data removed]",
      "text/plain": [
       "<Figure size 640x480 with 1 Axes>"
      ]
     },
     "metadata": {},
     "output_type": "display_data"
    }
   ],
   "source": [
    "plt.plot(val_acc)"
   ]
  },
  {
   "cell_type": "code",
   "execution_count": null,
   "id": "a0c908df",
   "metadata": {},
   "outputs": [],
   "source": []
  },
  {
   "cell_type": "code",
   "execution_count": null,
   "id": "0edb29b4",
   "metadata": {},
   "outputs": [],
   "source": []
  }
 ],
 "metadata": {
  "kernelspec": {
   "display_name": "Python 3 (ipykernel)",
   "language": "python",
   "name": "python3"
  },
  "language_info": {
   "codemirror_mode": {
    "name": "ipython",
    "version": 3
   },
   "file_extension": ".py",
   "mimetype": "text/x-python",
   "name": "python",
   "nbconvert_exporter": "python",
   "pygments_lexer": "ipython3",
   "version": "3.8.10"
  }
 },
 "nbformat": 4,
 "nbformat_minor": 5
}
