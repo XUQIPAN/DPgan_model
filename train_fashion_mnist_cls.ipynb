{
 "cells": [
  {
   "cell_type": "code",
   "execution_count": 1,
   "id": "04e09839",
   "metadata": {},
   "outputs": [],
   "source": [
    "from tqdm import tqdm"
   ]
  },
  {
   "cell_type": "code",
   "execution_count": 2,
   "id": "819af62e",
   "metadata": {},
   "outputs": [],
   "source": [
    "import torchvision"
   ]
  },
  {
   "cell_type": "code",
   "execution_count": 3,
   "id": "cb0e4703",
   "metadata": {},
   "outputs": [],
   "source": [
    "from glob import glob\n",
    "import os\n",
    "import matplotlib.pyplot as plt\n",
    "from torchvision import transforms\n",
    "from torchvision import models\n",
    "import torch\n",
    "from torch.autograd import Variable\n",
    "import torch.nn as nn\n",
    "from torch.optim import lr_scheduler\n",
    "from torch import optim\n",
    "from torchvision.utils import make_grid\n",
    "import time\n",
    "%matplotlib inline"
   ]
  },
  {
   "cell_type": "code",
   "execution_count": 4,
   "id": "a2455f93",
   "metadata": {},
   "outputs": [],
   "source": [
    "import matplotlib.pyplot as plt"
   ]
  },
  {
   "cell_type": "code",
   "execution_count": 5,
   "id": "2c50bb50",
   "metadata": {},
   "outputs": [],
   "source": [
    "import joblib\n",
    "import numpy as np"
   ]
  },
  {
   "cell_type": "code",
   "execution_count": 6,
   "id": "9bb72362",
   "metadata": {},
   "outputs": [],
   "source": [
    "from torch.utils.data import Dataset"
   ]
  },
  {
   "cell_type": "code",
   "execution_count": 7,
   "id": "799bba5c",
   "metadata": {},
   "outputs": [],
   "source": [
    "from PIL import Image"
   ]
  },
  {
   "cell_type": "code",
   "execution_count": 8,
   "id": "fa9125e8",
   "metadata": {},
   "outputs": [],
   "source": [
    "from torchvision.datasets import FashionMNIST, MNIST"
   ]
  },
  {
   "cell_type": "code",
   "execution_count": 9,
   "id": "a73810a1",
   "metadata": {},
   "outputs": [
    {
     "name": "stdout",
     "output_type": "stream",
     "text": [
      "/common/home/qx67/Desktop/dpgen/DPgan_model\n"
     ]
    }
   ],
   "source": [
    "!pwd"
   ]
  },
  {
   "cell_type": "code",
   "execution_count": 10,
   "id": "6afbf0cf",
   "metadata": {},
   "outputs": [
    {
     "name": "stdout",
     "output_type": "stream",
     "text": [
      "ls: cannot access './exp/datasets/': No such file or directory\n"
     ]
    }
   ],
   "source": [
    "!ls ./exp/datasets/"
   ]
  },
  {
   "cell_type": "code",
   "execution_count": 11,
   "id": "b5500115",
   "metadata": {},
   "outputs": [],
   "source": [
    "tran_transform = transforms.Compose([\n",
    "    transforms.Resize(28),\n",
    "    transforms.ToTensor()\n",
    "])\n",
    "test_transform = transforms.Compose([\n",
    "    transforms.Resize(28),\n",
    "    transforms.ToTensor()\n",
    "])"
   ]
  },
  {
   "cell_type": "code",
   "execution_count": 12,
   "id": "c4e7295a",
   "metadata": {},
   "outputs": [],
   "source": [
    "# train_dl = FashionMNIST(os.path.join('./exp', 'datasets', 'fashion_mnist'), download=True, \n",
    "#                                transform=tran_transform)\n",
    "# valid_dl = FashionMNIST(os.path.join('./exp', 'datasets', 'fashion_mnist_test'), train=False, download=True,\n",
    "#                                transform=test_transform)\n"
   ]
  },
  {
   "cell_type": "code",
   "execution_count": 13,
   "id": "0dbc6fb5",
   "metadata": {},
   "outputs": [
    {
     "name": "stdout",
     "output_type": "stream",
     "text": [
      "Downloading http://yann.lecun.com/exdb/mnist/train-images-idx3-ubyte.gz\n",
      "Downloading http://yann.lecun.com/exdb/mnist/train-images-idx3-ubyte.gz to ./exp/datasets/mnist/MNIST/raw/train-images-idx3-ubyte.gz\n"
     ]
    },
    {
     "name": "stderr",
     "output_type": "stream",
     "text": [
      "100%|██████████| 9912422/9912422 [00:01<00:00, 6781968.42it/s]\n"
     ]
    },
    {
     "name": "stdout",
     "output_type": "stream",
     "text": [
      "Extracting ./exp/datasets/mnist/MNIST/raw/train-images-idx3-ubyte.gz to ./exp/datasets/mnist/MNIST/raw\n",
      "\n",
      "Downloading http://yann.lecun.com/exdb/mnist/train-labels-idx1-ubyte.gz\n",
      "Downloading http://yann.lecun.com/exdb/mnist/train-labels-idx1-ubyte.gz to ./exp/datasets/mnist/MNIST/raw/train-labels-idx1-ubyte.gz\n"
     ]
    },
    {
     "name": "stderr",
     "output_type": "stream",
     "text": [
      "100%|██████████| 28881/28881 [00:00<00:00, 80703327.00it/s]\n"
     ]
    },
    {
     "name": "stdout",
     "output_type": "stream",
     "text": [
      "Extracting ./exp/datasets/mnist/MNIST/raw/train-labels-idx1-ubyte.gz to ./exp/datasets/mnist/MNIST/raw\n",
      "\n",
      "Downloading http://yann.lecun.com/exdb/mnist/t10k-images-idx3-ubyte.gz\n",
      "Downloading http://yann.lecun.com/exdb/mnist/t10k-images-idx3-ubyte.gz to ./exp/datasets/mnist/MNIST/raw/t10k-images-idx3-ubyte.gz\n"
     ]
    },
    {
     "name": "stderr",
     "output_type": "stream",
     "text": [
      "100%|██████████| 1648877/1648877 [00:00<00:00, 9767877.07it/s]\n"
     ]
    },
    {
     "name": "stdout",
     "output_type": "stream",
     "text": [
      "Extracting ./exp/datasets/mnist/MNIST/raw/t10k-images-idx3-ubyte.gz to ./exp/datasets/mnist/MNIST/raw\n",
      "\n",
      "Downloading http://yann.lecun.com/exdb/mnist/t10k-labels-idx1-ubyte.gz\n",
      "Downloading http://yann.lecun.com/exdb/mnist/t10k-labels-idx1-ubyte.gz to ./exp/datasets/mnist/MNIST/raw/t10k-labels-idx1-ubyte.gz\n"
     ]
    },
    {
     "name": "stderr",
     "output_type": "stream",
     "text": [
      "100%|██████████| 4542/4542 [00:00<00:00, 32289031.81it/s]"
     ]
    },
    {
     "name": "stdout",
     "output_type": "stream",
     "text": [
      "Extracting ./exp/datasets/mnist/MNIST/raw/t10k-labels-idx1-ubyte.gz to ./exp/datasets/mnist/MNIST/raw\n",
      "\n",
      "Downloading http://yann.lecun.com/exdb/mnist/train-images-idx3-ubyte.gz\n"
     ]
    },
    {
     "name": "stderr",
     "output_type": "stream",
     "text": [
      "\n"
     ]
    },
    {
     "name": "stdout",
     "output_type": "stream",
     "text": [
      "Downloading http://yann.lecun.com/exdb/mnist/train-images-idx3-ubyte.gz to ./exp/datasets/mnist_test/MNIST/raw/train-images-idx3-ubyte.gz\n"
     ]
    },
    {
     "name": "stderr",
     "output_type": "stream",
     "text": [
      "100%|██████████| 9912422/9912422 [00:00<00:00, 10298126.91it/s]\n"
     ]
    },
    {
     "name": "stdout",
     "output_type": "stream",
     "text": [
      "Extracting ./exp/datasets/mnist_test/MNIST/raw/train-images-idx3-ubyte.gz to ./exp/datasets/mnist_test/MNIST/raw\n",
      "\n",
      "Downloading http://yann.lecun.com/exdb/mnist/train-labels-idx1-ubyte.gz\n",
      "Downloading http://yann.lecun.com/exdb/mnist/train-labels-idx1-ubyte.gz to ./exp/datasets/mnist_test/MNIST/raw/train-labels-idx1-ubyte.gz\n"
     ]
    },
    {
     "name": "stderr",
     "output_type": "stream",
     "text": [
      "100%|██████████| 28881/28881 [00:00<00:00, 178666215.08it/s]\n"
     ]
    },
    {
     "name": "stdout",
     "output_type": "stream",
     "text": [
      "Extracting ./exp/datasets/mnist_test/MNIST/raw/train-labels-idx1-ubyte.gz to ./exp/datasets/mnist_test/MNIST/raw\n",
      "\n",
      "Downloading http://yann.lecun.com/exdb/mnist/t10k-images-idx3-ubyte.gz\n",
      "Downloading http://yann.lecun.com/exdb/mnist/t10k-images-idx3-ubyte.gz to ./exp/datasets/mnist_test/MNIST/raw/t10k-images-idx3-ubyte.gz\n"
     ]
    },
    {
     "name": "stderr",
     "output_type": "stream",
     "text": [
      "100%|██████████| 1648877/1648877 [00:00<00:00, 7195044.74it/s]\n"
     ]
    },
    {
     "name": "stdout",
     "output_type": "stream",
     "text": [
      "Extracting ./exp/datasets/mnist_test/MNIST/raw/t10k-images-idx3-ubyte.gz to ./exp/datasets/mnist_test/MNIST/raw\n",
      "\n",
      "Downloading http://yann.lecun.com/exdb/mnist/t10k-labels-idx1-ubyte.gz\n",
      "Downloading http://yann.lecun.com/exdb/mnist/t10k-labels-idx1-ubyte.gz to ./exp/datasets/mnist_test/MNIST/raw/t10k-labels-idx1-ubyte.gz\n"
     ]
    },
    {
     "name": "stderr",
     "output_type": "stream",
     "text": [
      "100%|██████████| 4542/4542 [00:00<00:00, 33777533.28it/s]"
     ]
    },
    {
     "name": "stdout",
     "output_type": "stream",
     "text": [
      "Extracting ./exp/datasets/mnist_test/MNIST/raw/t10k-labels-idx1-ubyte.gz to ./exp/datasets/mnist_test/MNIST/raw\n",
      "\n"
     ]
    },
    {
     "name": "stderr",
     "output_type": "stream",
     "text": [
      "\n"
     ]
    }
   ],
   "source": [
    "train_dl = MNIST(os.path.join('./exp', 'datasets', 'mnist'), download=True, \n",
    "                               transform=tran_transform)\n",
    "valid_dl = MNIST(os.path.join('./exp', 'datasets', 'mnist_test'), train=False, download=True,\n",
    "                               transform=test_transform)\n"
   ]
  },
  {
   "cell_type": "code",
   "execution_count": 14,
   "id": "595a9d8e",
   "metadata": {},
   "outputs": [],
   "source": [
    "x, y = train_dl[0]"
   ]
  },
  {
   "cell_type": "code",
   "execution_count": 15,
   "id": "675fb1cb",
   "metadata": {},
   "outputs": [
    {
     "data": {
      "text/plain": [
       "torch.Size([1, 28, 28])"
      ]
     },
     "execution_count": 15,
     "metadata": {},
     "output_type": "execute_result"
    }
   ],
   "source": [
    "x.shape"
   ]
  },
  {
   "cell_type": "code",
   "execution_count": 16,
   "id": "e98ecbc5",
   "metadata": {},
   "outputs": [
    {
     "data": {
      "text/plain": [
       "5"
      ]
     },
     "execution_count": 16,
     "metadata": {},
     "output_type": "execute_result"
    }
   ],
   "source": [
    "y"
   ]
  },
  {
   "cell_type": "code",
   "execution_count": 17,
   "id": "aa52cf8d",
   "metadata": {},
   "outputs": [
    {
     "data": {
      "text/plain": [
       "<matplotlib.image.AxesImage at 0x7f8de85d1e80>"
      ]
     },
     "execution_count": 17,
     "metadata": {},
     "output_type": "execute_result"
    },
    {
     "data": {
      "image/png": "[encoded data removed]",
      "text/plain": [
       "<Figure size 640x480 with 1 Axes>"
      ]
     },
     "metadata": {},
     "output_type": "display_data"
    }
   ],
   "source": [
    "plt.imshow(torchvision.utils.make_grid(train_dl[0][0]).permute(1, 2, 0))"
   ]
  },
  {
   "cell_type": "code",
   "execution_count": 18,
   "id": "dec8c0af",
   "metadata": {},
   "outputs": [],
   "source": [
    "import torch.nn.functional as F"
   ]
  },
  {
   "cell_type": "code",
   "execution_count": 19,
   "id": "b9d7f81d",
   "metadata": {},
   "outputs": [],
   "source": [
    "class MultiClassifier(nn.Module):\n",
    "    def __init__(self):\n",
    "        super(MultiClassifier, self).__init__()\n",
    "        self.ConvLayer1 = nn.Sequential(\n",
    "            nn.Conv2d(1, 64, 3), # 3, 256, 256\n",
    "            nn.MaxPool2d(2), # op: 16, 127, 127\n",
    "            nn.ReLU(), # op: 64, 127, 127\n",
    "        )\n",
    "        self.ConvLayer2 = nn.Sequential(\n",
    "            nn.Conv2d(64, 128, 3), # 64, 127, 127   \n",
    "            nn.MaxPool2d(2), #op: 128, 63, 63\n",
    "            nn.ReLU() # op: 128, 63, 63\n",
    "        )\n",
    "        self.ConvLayer3 = nn.Sequential(\n",
    "            nn.Conv2d(128, 256, 3), # 128, 63, 63\n",
    "            nn.MaxPool2d(2), #op: 256, 30, 30\n",
    "            nn.ReLU() #op: 256, 30, 30\n",
    "        )\n",
    "        \n",
    "        self.Linear1 = nn.Linear(256, 64)\n",
    "        self.Linear2 = nn.Linear(64, 10)\n",
    "                \n",
    "        \n",
    "    def forward(self, x):\n",
    "        x = self.ConvLayer1(x)\n",
    "        x = self.ConvLayer2(x)\n",
    "        x = self.ConvLayer3(x)\n",
    "\n",
    "        x = x.view(x.size(0), -1)\n",
    "        x = self.Linear1(x)\n",
    "        x = self.Linear2(x)\n",
    "        return F.softmax(x)\n",
    "\n"
   ]
  },
  {
   "cell_type": "code",
   "execution_count": 20,
   "id": "051cb435",
   "metadata": {},
   "outputs": [],
   "source": [
    "def check_cuda():\n",
    "    _cuda = False\n",
    "    if torch.cuda.is_available():\n",
    "        _cuda = True\n",
    "    return _cuda\n"
   ]
  },
  {
   "cell_type": "code",
   "execution_count": 21,
   "id": "b24e2b34",
   "metadata": {},
   "outputs": [],
   "source": [
    "is_cuda = check_cuda()\n",
    "\n",
    "model = MultiClassifier()\n",
    "if is_cuda:\n",
    "    model.cuda()\n"
   ]
  },
  {
   "cell_type": "code",
   "execution_count": 22,
   "id": "307a18c7",
   "metadata": {},
   "outputs": [],
   "source": [
    "x = train_dl[0][0].unsqueeze(0).cuda()"
   ]
  },
  {
   "cell_type": "code",
   "execution_count": 23,
   "id": "410b7747",
   "metadata": {},
   "outputs": [
    {
     "data": {
      "text/plain": [
       "torch.Size([1, 1, 28, 28])"
      ]
     },
     "execution_count": 23,
     "metadata": {},
     "output_type": "execute_result"
    }
   ],
   "source": [
    "x.shape"
   ]
  },
  {
   "cell_type": "code",
   "execution_count": 24,
   "id": "10b9c534",
   "metadata": {},
   "outputs": [
    {
     "name": "stderr",
     "output_type": "stream",
     "text": [
      "/tmp/ipykernel_189167/3427690861.py:32: UserWarning: Implicit dimension choice for softmax has been deprecated. Change the call to include dim=X as an argument.\n",
      "  return F.softmax(x)\n"
     ]
    },
    {
     "data": {
      "text/plain": [
       "torch.Size([1, 10])"
      ]
     },
     "execution_count": 24,
     "metadata": {},
     "output_type": "execute_result"
    }
   ],
   "source": [
    "model(x).shape"
   ]
  },
  {
   "cell_type": "code",
   "execution_count": null,
   "id": "e06f222f",
   "metadata": {},
   "outputs": [],
   "source": []
  },
  {
   "cell_type": "code",
   "execution_count": 25,
   "id": "e7d9bbaa",
   "metadata": {},
   "outputs": [],
   "source": [
    "train_dataloader = torch.utils.data.DataLoader(train_dl, shuffle = True, batch_size = 512, num_workers = 4)\n",
    "valid_dataloader = torch.utils.data.DataLoader(valid_dl, shuffle = True, batch_size = 512, num_workers = 4)\n"
   ]
  },
  {
   "cell_type": "code",
   "execution_count": 26,
   "id": "1277172e",
   "metadata": {},
   "outputs": [],
   "source": [
    "def pred_acc(original, predicted):\n",
    "    return torch.round(predicted).eq(original).sum().numpy()/len(original)\n"
   ]
  },
  {
   "cell_type": "code",
   "execution_count": 27,
   "id": "4592b320",
   "metadata": {},
   "outputs": [],
   "source": [
    "criterion = nn.BCELoss()\n",
    "# criterion = nn.CrossEntropyLoss()\n",
    "# optimizer = optim.SGD(model.parameters(), lr = 0.001, momentum = 0.9)\n",
    "optimizer = optim.Adam(model.parameters(), lr = 0.001)\n"
   ]
  },
  {
   "cell_type": "code",
   "execution_count": 28,
   "id": "68338fb2",
   "metadata": {},
   "outputs": [],
   "source": [
    "from pprint import pprint\n"
   ]
  },
  {
   "cell_type": "code",
   "execution_count": 29,
   "id": "ce1e573d",
   "metadata": {},
   "outputs": [],
   "source": [
    "def fit_model(epochs, model, dataloader, phase = 'training', volatile = False):\n",
    "    \n",
    "    pprint(\"Epoch: {}\".format(epochs))\n",
    "\n",
    "    if phase == 'training':\n",
    "        model.train()\n",
    "        \n",
    "    if phase == 'validataion':\n",
    "        model.eval()\n",
    "        volatile = True\n",
    "        \n",
    "    running_loss = []\n",
    "    running_acc = []\n",
    "    b = 0\n",
    "    for i, data in enumerate(dataloader):\n",
    "        \n",
    "\n",
    "        inputs, target = data[0].cuda(), torch.eye(10)[data[1]].cuda()        \n",
    "        inputs, target = Variable(inputs), Variable(target)\n",
    "        \n",
    "        if phase == 'training':\n",
    "            optimizer.zero_grad()\n",
    "            \n",
    "        ops = model(inputs)\n",
    "        \n",
    "        acc_ = []\n",
    "        for i, d in enumerate(ops):\n",
    "           \n",
    "            acc = pred_acc(torch.Tensor.cpu(target[i]), torch.Tensor.cpu(d))\n",
    "            acc_.append(acc)\n",
    "\n",
    "        loss = criterion(ops, target)\n",
    "                \n",
    "        running_loss.append(loss.item())\n",
    "        running_acc.append(np.asarray(acc_).mean())\n",
    "        b += 1\n",
    "       \n",
    "        if phase == 'training':\n",
    "            \n",
    "            loss.backward()\n",
    "        \n",
    "            optimizer.step()\n",
    "            \n",
    "    total_batch_loss = np.asarray(running_loss).mean()\n",
    "    total_batch_acc = np.asarray(running_acc).mean()\n",
    "    \n",
    "\n",
    "    pprint(\"{} loss is {} \".format(phase,total_batch_loss))\n",
    "    pprint(\"{} accuracy is {} \".format(phase, total_batch_acc))\n",
    "    \n",
    "    return total_batch_loss, total_batch_acc\n"
   ]
  },
  {
   "cell_type": "code",
   "execution_count": 30,
   "id": "590c8677",
   "metadata": {},
   "outputs": [],
   "source": [
    "inputs, target = next(iter(train_dataloader))"
   ]
  },
  {
   "cell_type": "code",
   "execution_count": 31,
   "id": "ec978b7e",
   "metadata": {},
   "outputs": [
    {
     "name": "stderr",
     "output_type": "stream",
     "text": [
      "/tmp/ipykernel_189167/3427690861.py:32: UserWarning: Implicit dimension choice for softmax has been deprecated. Change the call to include dim=X as an argument.\n",
      "  return F.softmax(x)\n"
     ]
    }
   ],
   "source": [
    "ops = model(inputs.cuda())"
   ]
  },
  {
   "cell_type": "code",
   "execution_count": 32,
   "id": "ba678340",
   "metadata": {},
   "outputs": [],
   "source": [
    "trn_losses = []; trn_acc = []\n",
    "val_losses = []; val_acc = []\n"
   ]
  },
  {
   "cell_type": "code",
   "execution_count": 33,
   "id": "0cb444bc",
   "metadata": {},
   "outputs": [
    {
     "name": "stderr",
     "output_type": "stream",
     "text": [
      "  0%|          | 0/99 [00:00<?, ?it/s]"
     ]
    },
    {
     "name": "stdout",
     "output_type": "stream",
     "text": [
      "'Epoch: 1'\n"
     ]
    },
    {
     "name": "stderr",
     "output_type": "stream",
     "text": [
      "/tmp/ipykernel_189167/3427690861.py:32: UserWarning: Implicit dimension choice for softmax has been deprecated. Change the call to include dim=X as an argument.\n",
      "  return F.softmax(x)\n"
     ]
    },
    {
     "name": "stdout",
     "output_type": "stream",
     "text": [
      "'training loss is 0.0801237453154083 '\n",
      "'training accuracy is 0.9720863126765539 '\n",
      "'Epoch: 1'\n"
     ]
    },
    {
     "name": "stderr",
     "output_type": "stream",
     "text": [
      "  1%|          | 1/99 [00:12<20:42, 12.68s/it]"
     ]
    },
    {
     "name": "stdout",
     "output_type": "stream",
     "text": [
      "'validation loss is 0.023027511220425366 '\n",
      "'validation accuracy is 0.9923667279411765 '\n",
      "'Epoch: 2'\n",
      "'training loss is 0.019535737364726552 '\n",
      "'training accuracy is 0.9934868246822034 '\n",
      "'Epoch: 2'\n"
     ]
    },
    {
     "name": "stderr",
     "output_type": "stream",
     "text": [
      "  2%|▏         | 2/99 [00:24<19:45, 12.23s/it]"
     ]
    },
    {
     "name": "stdout",
     "output_type": "stream",
     "text": [
      "'validation loss is 0.016222687624394893 '\n",
      "'validation accuracy is 0.994743221507353 '\n",
      "'Epoch: 3'\n",
      "'training loss is 0.014384559568775407 '\n",
      "'training accuracy is 0.9951861537782486 '\n",
      "'Epoch: 3'\n"
     ]
    },
    {
     "name": "stderr",
     "output_type": "stream",
     "text": [
      "  3%|▎         | 3/99 [00:37<19:54, 12.44s/it]"
     ]
    },
    {
     "name": "stdout",
     "output_type": "stream",
     "text": [
      "'validation loss is 0.01479624817147851 '\n",
      "'validation accuracy is 0.994914981617647 '\n",
      "'Epoch: 4'\n",
      "'training loss is 0.01139618251157009 '\n",
      "'training accuracy is 0.9961395436087572 '\n",
      "'Epoch: 4'\n"
     ]
    },
    {
     "name": "stderr",
     "output_type": "stream",
     "text": [
      "  4%|▍         | 4/99 [00:49<19:27, 12.29s/it]"
     ]
    },
    {
     "name": "stdout",
     "output_type": "stream",
     "text": [
      "'validation loss is 0.012280352623201906 '\n",
      "'validation accuracy is 0.995715762867647 '\n",
      "'Epoch: 5'\n",
      "'training loss is 0.009537502349812096 '\n",
      "'training accuracy is 0.9969257591807908 '\n",
      "'Epoch: 5'\n"
     ]
    },
    {
     "name": "stderr",
     "output_type": "stream",
     "text": [
      "  5%|▌         | 5/99 [01:01<19:18, 12.32s/it]"
     ]
    },
    {
     "name": "stdout",
     "output_type": "stream",
     "text": [
      "'validation loss is 0.009219640051014721 '\n",
      "'validation accuracy is 0.9969887408088235 '\n",
      "'Epoch: 6'\n",
      "'training loss is 0.007803645526587774 '\n",
      "'training accuracy is 0.997507282838983 '\n",
      "'Epoch: 6'\n"
     ]
    },
    {
     "name": "stderr",
     "output_type": "stream",
     "text": [
      "  6%|▌         | 6/99 [01:13<18:52, 12.17s/it]"
     ]
    },
    {
     "name": "stdout",
     "output_type": "stream",
     "text": [
      "'validation loss is 0.008904300094582141 '\n",
      "'validation accuracy is 0.9969944852941177 '\n",
      "'Epoch: 7'\n",
      "'training loss is 0.006585738725242031 '\n",
      "'training accuracy is 0.997902873411017 '\n",
      "'Epoch: 7'\n"
     ]
    },
    {
     "name": "stderr",
     "output_type": "stream",
     "text": [
      "  7%|▋         | 7/99 [01:25<18:32, 12.10s/it]"
     ]
    },
    {
     "name": "stdout",
     "output_type": "stream",
     "text": [
      "'validation loss is 0.00880957000190392 '\n",
      "'validation accuracy is 0.9970122931985295 '\n",
      "'Epoch: 8'\n",
      "'training loss is 0.005724994842578672 '\n",
      "'training accuracy is 0.9981627383474575 '\n",
      "'Epoch: 8'\n"
     ]
    },
    {
     "name": "stderr",
     "output_type": "stream",
     "text": [
      "  8%|▊         | 8/99 [01:37<18:16, 12.04s/it]"
     ]
    },
    {
     "name": "stdout",
     "output_type": "stream",
     "text": [
      "'validation loss is 0.008523411327041685 '\n",
      "'validation accuracy is 0.997406364889706 '\n",
      "'Epoch: 9'\n",
      "'training loss is 0.005504991362952643 '\n",
      "'training accuracy is 0.9982328080861581 '\n",
      "'Epoch: 9'\n"
     ]
    },
    {
     "name": "stderr",
     "output_type": "stream",
     "text": [
      "  9%|▉         | 9/99 [01:49<18:06, 12.07s/it]"
     ]
    },
    {
     "name": "stdout",
     "output_type": "stream",
     "text": [
      "'validation loss is 0.008194991736672819 '\n",
      "'validation accuracy is 0.9974632352941176 '\n",
      "'Epoch: 10'\n",
      "'training loss is 0.004678030779498424 '\n",
      "'training accuracy is 0.9984794314971751 '\n",
      "'Epoch: 10'\n"
     ]
    },
    {
     "name": "stderr",
     "output_type": "stream",
     "text": [
      " 10%|█         | 10/99 [02:01<17:39, 11.90s/it]"
     ]
    },
    {
     "name": "stdout",
     "output_type": "stream",
     "text": [
      "'validation loss is 0.009345965343527496 '\n",
      "'validation accuracy is 0.9971053538602941 '\n",
      "'Epoch: 11'\n",
      "'training loss is 0.004551403663492114 '\n",
      "'training accuracy is 0.9985230181850282 '\n",
      "'Epoch: 11'\n"
     ]
    },
    {
     "name": "stderr",
     "output_type": "stream",
     "text": [
      " 11%|█         | 11/99 [02:13<17:37, 12.02s/it]"
     ]
    },
    {
     "name": "stdout",
     "output_type": "stream",
     "text": [
      "'validation loss is 0.007435314380563796 '\n",
      "'validation accuracy is 0.9979279641544118 '\n",
      "'Epoch: 12'\n",
      "'training loss is 0.003332299812720552 '\n",
      "'training accuracy is 0.9988413665254238 '\n",
      "'Epoch: 12'\n"
     ]
    },
    {
     "name": "stderr",
     "output_type": "stream",
     "text": [
      " 12%|█▏        | 12/99 [02:25<17:30, 12.07s/it]"
     ]
    },
    {
     "name": "stdout",
     "output_type": "stream",
     "text": [
      "'validation loss is 0.008351204823702574 '\n",
      "'validation accuracy is 0.9974764476102942 '\n",
      "'Epoch: 13'\n",
      "'training loss is 0.002952645160356473 '\n",
      "'training accuracy is 0.9990896451271187 '\n",
      "'Epoch: 13'\n"
     ]
    },
    {
     "name": "stderr",
     "output_type": "stream",
     "text": [
      " 13%|█▎        | 13/99 [02:37<17:20, 12.10s/it]"
     ]
    },
    {
     "name": "stdout",
     "output_type": "stream",
     "text": [
      "'validation loss is 0.007798999280203134 '\n",
      "'validation accuracy is 0.9978963694852941 '\n",
      "'Epoch: 14'\n",
      "'training loss is 0.0026588358781182097 '\n",
      "'training accuracy is 0.9990962658898307 '\n",
      "'Epoch: 14'\n"
     ]
    },
    {
     "name": "stderr",
     "output_type": "stream",
     "text": [
      " 14%|█▍        | 14/99 [02:49<17:00, 12.01s/it]"
     ]
    },
    {
     "name": "stdout",
     "output_type": "stream",
     "text": [
      "'validation loss is 0.008320847724098713 '\n",
      "'validation accuracy is 0.9976326976102943 '\n",
      "'Epoch: 15'\n",
      "'training loss is 0.0024978776622200543 '\n",
      "'training accuracy is 0.9991205420197742 '\n",
      "'Epoch: 15'\n"
     ]
    },
    {
     "name": "stderr",
     "output_type": "stream",
     "text": [
      " 15%|█▌        | 15/99 [03:00<16:28, 11.77s/it]"
     ]
    },
    {
     "name": "stdout",
     "output_type": "stream",
     "text": [
      "'validation loss is 0.011108638264704495 '\n",
      "'validation accuracy is 0.996784237132353 '\n",
      "'Epoch: 16'\n",
      "'training loss is 0.0024856690364747735 '\n",
      "'training accuracy is 0.9991906117584747 '\n",
      "'Epoch: 16'\n"
     ]
    },
    {
     "name": "stderr",
     "output_type": "stream",
     "text": [
      " 16%|█▌        | 16/99 [03:12<16:17, 11.78s/it]"
     ]
    },
    {
     "name": "stdout",
     "output_type": "stream",
     "text": [
      "'validation loss is 0.009617449226789176 '\n",
      "'validation accuracy is 0.997292049632353 '\n",
      "'Epoch: 17'\n",
      "'training loss is 0.0018350405414328296 '\n",
      "'training accuracy is 0.9994090969279662 '\n",
      "'Epoch: 17'\n"
     ]
    },
    {
     "name": "stderr",
     "output_type": "stream",
     "text": [
      " 17%|█▋        | 17/99 [03:24<16:15, 11.89s/it]"
     ]
    },
    {
     "name": "stdout",
     "output_type": "stream",
     "text": [
      "'validation loss is 0.009324979037046432 '\n",
      "'validation accuracy is 0.9976878446691175 '\n",
      "'Epoch: 18'\n",
      "'training loss is 0.0017588478719008597 '\n",
      "'training accuracy is 0.9994096486581922 '\n",
      "'Epoch: 18'\n"
     ]
    },
    {
     "name": "stderr",
     "output_type": "stream",
     "text": [
      " 18%|█▊        | 18/99 [03:36<16:06, 11.94s/it]"
     ]
    },
    {
     "name": "stdout",
     "output_type": "stream",
     "text": [
      "'validation loss is 0.010459804092533886 '\n",
      "'validation accuracy is 0.9975252757352943 '\n",
      "'Epoch: 19'\n",
      "'training loss is 0.0014801689530170318 '\n",
      "'training accuracy is 0.9995199947033899 '\n",
      "'Epoch: 19'\n"
     ]
    },
    {
     "name": "stderr",
     "output_type": "stream",
     "text": [
      " 19%|█▉        | 19/99 [03:48<15:58, 11.99s/it]"
     ]
    },
    {
     "name": "stdout",
     "output_type": "stream",
     "text": [
      "'validation loss is 0.00908164365682751 '\n",
      "'validation accuracy is 0.9975993795955883 '\n",
      "'Epoch: 20'\n",
      "'training loss is 0.0012860296908726568 '\n",
      "'training accuracy is 0.999565236581921 '\n",
      "'Epoch: 20'\n"
     ]
    },
    {
     "name": "stderr",
     "output_type": "stream",
     "text": [
      " 20%|██        | 20/99 [04:00<15:30, 11.78s/it]"
     ]
    },
    {
     "name": "stdout",
     "output_type": "stream",
     "text": [
      "'validation loss is 0.011468418478034436 '\n",
      "'validation accuracy is 0.9973494944852941 '\n",
      "'Epoch: 21'\n",
      "'training loss is 0.0018793011160164882 '\n",
      "'training accuracy is 0.9994179246115822 '\n",
      "'Epoch: 21'\n"
     ]
    },
    {
     "name": "stderr",
     "output_type": "stream",
     "text": [
      " 21%|██        | 21/99 [04:11<15:14, 11.72s/it]"
     ]
    },
    {
     "name": "stdout",
     "output_type": "stream",
     "text": [
      "'validation loss is 0.008816495834616944 '\n",
      "'validation accuracy is 0.9977533318014707 '\n",
      "'Epoch: 22'\n",
      "'training loss is 0.001550046762146186 '\n",
      "'training accuracy is 0.9995100635593221 '\n",
      "'Epoch: 22'\n"
     ]
    },
    {
     "name": "stderr",
     "output_type": "stream",
     "text": [
      " 22%|██▏       | 22/99 [04:23<15:10, 11.83s/it]"
     ]
    },
    {
     "name": "stdout",
     "output_type": "stream",
     "text": [
      "'validation loss is 0.01115241087245522 '\n",
      "'validation accuracy is 0.9978906249999998 '\n",
      "'Epoch: 23'\n",
      "'training loss is 0.0008852595424055619 '\n",
      "'training accuracy is 0.9997119968220338 '\n",
      "'Epoch: 23'\n"
     ]
    },
    {
     "name": "stderr",
     "output_type": "stream",
     "text": [
      " 23%|██▎       | 23/99 [04:36<15:06, 11.93s/it]"
     ]
    },
    {
     "name": "stdout",
     "output_type": "stream",
     "text": [
      "'validation loss is 0.009704254975076765 '\n",
      "'validation accuracy is 0.9980221737132353 '\n",
      "'Epoch: 24'\n",
      "'training loss is 0.0006952243946185355 '\n",
      "'training accuracy is 0.9997914459745763 '\n",
      "'Epoch: 24'\n"
     ]
    },
    {
     "name": "stderr",
     "output_type": "stream",
     "text": [
      " 24%|██▍       | 24/99 [04:47<14:55, 11.94s/it]"
     ]
    },
    {
     "name": "stdout",
     "output_type": "stream",
     "text": [
      "'validation loss is 0.00979967744788155 '\n",
      "'validation accuracy is 0.9979314108455883 '\n",
      "'Epoch: 25'\n",
      "'training loss is 0.0005337190637350184 '\n",
      "'training accuracy is 0.9998394465042375 '\n",
      "'Epoch: 25'\n"
     ]
    },
    {
     "name": "stderr",
     "output_type": "stream",
     "text": [
      " 25%|██▌       | 25/99 [04:59<14:44, 11.95s/it]"
     ]
    },
    {
     "name": "stdout",
     "output_type": "stream",
     "text": [
      "'validation loss is 0.009335849597118796 '\n",
      "'validation accuracy is 0.9980807674632354 '\n",
      "'Epoch: 26'\n",
      "'training loss is 0.0009320245903913697 '\n",
      "'training accuracy is 0.9996722722457628 '\n",
      "'Epoch: 26'\n"
     ]
    },
    {
     "name": "stderr",
     "output_type": "stream",
     "text": [
      " 26%|██▋       | 26/99 [05:11<14:27, 11.89s/it]"
     ]
    },
    {
     "name": "stdout",
     "output_type": "stream",
     "text": [
      "'validation loss is 0.009493983699940145 '\n",
      "'validation accuracy is 0.9979049862132353 '\n",
      "'Epoch: 27'\n",
      "'training loss is 0.00037557009306772793 '\n",
      "'training accuracy is 0.9998973781779662 '\n",
      "'Epoch: 27'\n"
     ]
    },
    {
     "name": "stderr",
     "output_type": "stream",
     "text": [
      " 27%|██▋       | 27/99 [05:23<14:14, 11.87s/it]"
     ]
    },
    {
     "name": "stdout",
     "output_type": "stream",
     "text": [
      "'validation loss is 0.011111275316216052 '\n",
      "'validation accuracy is 0.9979951746323529 '\n",
      "'Epoch: 28'\n",
      "'training loss is 0.0010175435081075223 '\n",
      "'training accuracy is 0.9996822033898307 '\n",
      "'Epoch: 28'\n"
     ]
    },
    {
     "name": "stderr",
     "output_type": "stream",
     "text": [
      " 28%|██▊       | 28/99 [05:35<14:09, 11.97s/it]"
     ]
    },
    {
     "name": "stdout",
     "output_type": "stream",
     "text": [
      "'validation loss is 0.011516685481183231 '\n",
      "'validation accuracy is 0.9979319852941178 '\n",
      "'Epoch: 29'\n",
      "'training loss is 0.0008786489639008985 '\n",
      "'training accuracy is 0.9996855137711865 '\n",
      "'Epoch: 29'\n"
     ]
    },
    {
     "name": "stderr",
     "output_type": "stream",
     "text": [
      " 29%|██▉       | 29/99 [05:48<14:09, 12.13s/it]"
     ]
    },
    {
     "name": "stdout",
     "output_type": "stream",
     "text": [
      "'validation loss is 0.013601983047556132 '\n",
      "'validation accuracy is 0.9969473805147059 '\n",
      "'Epoch: 30'\n",
      "'training loss is 0.0008239129425820172 '\n",
      "'training accuracy is 0.9997451006355933 '\n",
      "'Epoch: 30'\n"
     ]
    },
    {
     "name": "stderr",
     "output_type": "stream",
     "text": [
      " 30%|███       | 30/99 [06:00<14:02, 12.21s/it]"
     ]
    },
    {
     "name": "stdout",
     "output_type": "stream",
     "text": [
      "'validation loss is 0.010274478438077495 '\n",
      "'validation accuracy is 0.9978756893382356 '\n",
      "'Epoch: 31'\n",
      "'training loss is 0.000549468226558852 '\n",
      "'training accuracy is 0.9998411016949154 '\n",
      "'Epoch: 31'\n"
     ]
    },
    {
     "name": "stderr",
     "output_type": "stream",
     "text": [
      " 31%|███▏      | 31/99 [06:12<13:46, 12.15s/it]"
     ]
    },
    {
     "name": "stdout",
     "output_type": "stream",
     "text": [
      "'validation loss is 0.014723259778111241 '\n",
      "'validation accuracy is 0.9978906249999999 '\n",
      "'Epoch: 32'\n",
      "'training loss is 0.0008257163359704171 '\n",
      "'training accuracy is 0.9997335143008476 '\n",
      "'Epoch: 32'\n"
     ]
    },
    {
     "name": "stderr",
     "output_type": "stream",
     "text": [
      " 32%|███▏      | 32/99 [06:24<13:29, 12.09s/it]"
     ]
    },
    {
     "name": "stdout",
     "output_type": "stream",
     "text": [
      "'validation loss is 0.013621897902339697 '\n",
      "'validation accuracy is 0.9975827205882354 '\n",
      "'Epoch: 33'\n",
      "'training loss is 0.0010176541918399842 '\n",
      "'training accuracy is 0.999668961864407 '\n",
      "'Epoch: 33'\n"
     ]
    },
    {
     "name": "stderr",
     "output_type": "stream",
     "text": [
      " 33%|███▎      | 33/99 [06:36<13:10, 11.98s/it]"
     ]
    },
    {
     "name": "stdout",
     "output_type": "stream",
     "text": [
      "'validation loss is 0.013214069593232125 '\n",
      "'validation accuracy is 0.9976706112132353 '\n",
      "'Epoch: 34'\n",
      "'training loss is 0.0008131654235204238 '\n",
      "'training accuracy is 0.9997092381709041 '\n",
      "'Epoch: 34'\n"
     ]
    },
    {
     "name": "stderr",
     "output_type": "stream",
     "text": [
      " 34%|███▍      | 34/99 [06:48<13:03, 12.05s/it]"
     ]
    },
    {
     "name": "stdout",
     "output_type": "stream",
     "text": [
      "'validation loss is 0.012829794420395047 '\n",
      "'validation accuracy is 0.9979388786764707 '\n",
      "'Epoch: 35'\n",
      "'training loss is 0.001008431917198014 '\n",
      "'training accuracy is 0.9996722722457628 '\n",
      "'Epoch: 35'\n"
     ]
    },
    {
     "name": "stderr",
     "output_type": "stream",
     "text": [
      " 35%|███▌      | 35/99 [07:00<12:43, 11.93s/it]"
     ]
    },
    {
     "name": "stdout",
     "output_type": "stream",
     "text": [
      "'validation loss is 0.012387439527083188 '\n",
      "'validation accuracy is 0.9980026424632354 '\n",
      "'Epoch: 36'\n",
      "'training loss is 0.0005647941499804709 '\n",
      "'training accuracy is 0.9998035840395482 '\n",
      "'Epoch: 36'\n"
     ]
    },
    {
     "name": "stderr",
     "output_type": "stream",
     "text": [
      " 36%|███▋      | 36/99 [07:12<12:38, 12.03s/it]"
     ]
    },
    {
     "name": "stdout",
     "output_type": "stream",
     "text": [
      "'validation loss is 0.01212003107939381 '\n",
      "'validation accuracy is 0.9980440027573529 '\n",
      "'Epoch: 37'\n",
      "'training loss is 0.0004874363419314589 '\n",
      "'training accuracy is 0.9998477224576272 '\n",
      "'Epoch: 37'\n"
     ]
    },
    {
     "name": "stderr",
     "output_type": "stream",
     "text": [
      " 37%|███▋      | 37/99 [07:24<12:25, 12.02s/it]"
     ]
    },
    {
     "name": "stdout",
     "output_type": "stream",
     "text": [
      "'validation loss is 0.01403537528240122 '\n",
      "'validation accuracy is 0.9979319852941178 '\n",
      "'Epoch: 38'\n",
      "'training loss is 0.0009415144474310105 '\n",
      "'training accuracy is 0.9996943414548024 '\n",
      "'Epoch: 38'\n"
     ]
    },
    {
     "name": "stderr",
     "output_type": "stream",
     "text": [
      " 38%|███▊      | 38/99 [07:36<12:09, 11.95s/it]"
     ]
    },
    {
     "name": "stdout",
     "output_type": "stream",
     "text": [
      "'validation loss is 0.0187251347117126 '\n",
      "'validation accuracy is 0.9970548023897059 '\n",
      "'Epoch: 39'\n",
      "'training loss is 0.0013775906599668383 '\n",
      "'training accuracy is 0.9995530985169493 '\n",
      "'Epoch: 39'\n"
     ]
    },
    {
     "name": "stderr",
     "output_type": "stream",
     "text": [
      " 39%|███▉      | 39/99 [07:47<11:48, 11.80s/it]"
     ]
    },
    {
     "name": "stdout",
     "output_type": "stream",
     "text": [
      "'validation loss is 0.014303324336651713 '\n",
      "'validation accuracy is 0.9976045496323527 '\n",
      "'Epoch: 40'\n",
      "'training loss is 0.00030573250184053166 '\n",
      "'training accuracy is 0.9999006885593221 '\n",
      "'Epoch: 40'\n"
     ]
    },
    {
     "name": "stderr",
     "output_type": "stream",
     "text": [
      " 40%|████      | 40/99 [07:59<11:31, 11.72s/it]"
     ]
    },
    {
     "name": "stdout",
     "output_type": "stream",
     "text": [
      "'validation loss is 0.014505735703278334 '\n",
      "'validation accuracy is 0.9977045036764706 '\n",
      "'Epoch: 41'\n",
      "'training loss is 0.00015673348543637306 '\n",
      "'training accuracy is 0.9999602754237289 '\n",
      "'Epoch: 41'\n"
     ]
    },
    {
     "name": "stderr",
     "output_type": "stream",
     "text": [
      " 41%|████▏     | 41/99 [08:11<11:24, 11.80s/it]"
     ]
    },
    {
     "name": "stdout",
     "output_type": "stream",
     "text": [
      "'validation loss is 0.014694967272225768 '\n",
      "'validation accuracy is 0.9980612362132353 '\n",
      "'Epoch: 42'\n",
      "'training loss is 0.00019783609551360945 '\n",
      "'training accuracy is 0.9999536546610169 '\n",
      "'Epoch: 42'\n"
     ]
    },
    {
     "name": "stderr",
     "output_type": "stream",
     "text": [
      " 42%|████▏     | 42/99 [08:22<11:04, 11.66s/it]"
     ]
    },
    {
     "name": "stdout",
     "output_type": "stream",
     "text": [
      "'validation loss is 0.01274676505709067 '\n",
      "'validation accuracy is 0.9976413143382354 '\n",
      "'Epoch: 43'\n",
      "'training loss is 0.00018306346524017716 '\n",
      "'training accuracy is 0.9999354475635595 '\n",
      "'Epoch: 43'\n"
     ]
    },
    {
     "name": "stderr",
     "output_type": "stream",
     "text": [
      " 43%|████▎     | 43/99 [08:33<10:48, 11.57s/it]"
     ]
    },
    {
     "name": "stdout",
     "output_type": "stream",
     "text": [
      "'validation loss is 0.014739623898640275 '\n",
      "'validation accuracy is 0.9979561121323529 '\n",
      "'Epoch: 44'\n",
      "'training loss is 0.00027622983809077735 '\n",
      "'training accuracy is 0.9999188956567797 '\n",
      "'Epoch: 44'\n"
     ]
    },
    {
     "name": "stderr",
     "output_type": "stream",
     "text": [
      " 44%|████▍     | 44/99 [08:45<10:41, 11.66s/it]"
     ]
    },
    {
     "name": "stdout",
     "output_type": "stream",
     "text": [
      "'validation loss is 0.014911716483766213 '\n",
      "'validation accuracy is 0.9979756433823528 '\n",
      "'Epoch: 45'\n",
      "'training loss is 0.00035123258104727414 '\n",
      "'training accuracy is 0.9998973781779663 '\n",
      "'Epoch: 45'\n"
     ]
    },
    {
     "name": "stderr",
     "output_type": "stream",
     "text": [
      " 45%|████▌     | 45/99 [08:57<10:27, 11.61s/it]"
     ]
    },
    {
     "name": "stdout",
     "output_type": "stream",
     "text": [
      "'validation loss is 0.013746951462235302 '\n",
      "'validation accuracy is 0.9981152343749999 '\n",
      "'Epoch: 46'\n",
      "'training loss is 0.0007136286486896143 '\n",
      "'training accuracy is 0.9997384798728816 '\n",
      "'Epoch: 46'\n"
     ]
    },
    {
     "name": "stderr",
     "output_type": "stream",
     "text": [
      " 46%|████▋     | 46/99 [09:08<10:14, 11.60s/it]"
     ]
    },
    {
     "name": "stdout",
     "output_type": "stream",
     "text": [
      "'validation loss is 0.017510496883187444 '\n",
      "'validation accuracy is 0.9975287224264706 '\n",
      "'Epoch: 47'\n",
      "'training loss is 0.001255565155681047 '\n",
      "'training accuracy is 0.9995310293079096 '\n",
      "'Epoch: 47'\n"
     ]
    },
    {
     "name": "stderr",
     "output_type": "stream",
     "text": [
      " 47%|████▋     | 47/99 [09:20<10:09, 11.71s/it]"
     ]
    },
    {
     "name": "stdout",
     "output_type": "stream",
     "text": [
      "'validation loss is 0.016621325246524064 '\n",
      "'validation accuracy is 0.9974925321691177 '\n",
      "'Epoch: 48'\n",
      "'training loss is 0.0018414602220249343 '\n",
      "'training accuracy is 0.999419028072034 '\n",
      "'Epoch: 48'\n"
     ]
    },
    {
     "name": "stderr",
     "output_type": "stream",
     "text": [
      " 48%|████▊     | 48/99 [09:32<10:00, 11.77s/it]"
     ]
    },
    {
     "name": "stdout",
     "output_type": "stream",
     "text": [
      "'validation loss is 0.012866962736006826 '\n",
      "'validation accuracy is 0.9977464384191176 '\n",
      "'Epoch: 49'\n",
      "'training loss is 0.0003288169388023392 '\n",
      "'training accuracy is 0.9998979299081923 '\n",
      "'Epoch: 49'\n"
     ]
    },
    {
     "name": "stderr",
     "output_type": "stream",
     "text": [
      " 49%|████▉     | 49/99 [09:44<09:54, 11.89s/it]"
     ]
    },
    {
     "name": "stdout",
     "output_type": "stream",
     "text": [
      "'validation loss is 0.014991974516306072 '\n",
      "'validation accuracy is 0.9978486902573529 '\n",
      "'Epoch: 50'\n",
      "'training loss is 0.0006415815254112497 '\n",
      "'training accuracy is 0.9997881355932204 '\n",
      "'Epoch: 50'\n"
     ]
    },
    {
     "name": "stderr",
     "output_type": "stream",
     "text": [
      " 51%|█████     | 50/99 [09:56<09:37, 11.78s/it]"
     ]
    },
    {
     "name": "stdout",
     "output_type": "stream",
     "text": [
      "'validation loss is 0.013777148086228408 '\n",
      "'validation accuracy is 0.9979147518382353 '\n",
      "'Epoch: 51'\n",
      "'training loss is 6.87164132849352e-05 '\n",
      "'training accuracy is 0.9999867584745762 '\n",
      "'Epoch: 51'\n"
     ]
    },
    {
     "name": "stderr",
     "output_type": "stream",
     "text": [
      " 52%|█████▏    | 51/99 [10:08<09:24, 11.75s/it]"
     ]
    },
    {
     "name": "stdout",
     "output_type": "stream",
     "text": [
      "'validation loss is 0.013055432988039684 '\n",
      "'validation accuracy is 0.9980468750000002 '\n",
      "'Epoch: 52'\n",
      "'training loss is 1.4131044405187713e-05 '\n",
      "'training accuracy is 1.0 '\n",
      "'Epoch: 52'\n"
     ]
    },
    {
     "name": "stderr",
     "output_type": "stream",
     "text": [
      " 53%|█████▎    | 52/99 [10:19<09:07, 11.64s/it]"
     ]
    },
    {
     "name": "stdout",
     "output_type": "stream",
     "text": [
      "'validation loss is 0.014218571898527443 '\n",
      "'validation accuracy is 0.9980215992647059 '\n",
      "'Epoch: 53'\n",
      "'training loss is 5.991862271854589e-06 '\n",
      "'training accuracy is 1.0 '\n",
      "'Epoch: 53'\n"
     ]
    },
    {
     "name": "stderr",
     "output_type": "stream",
     "text": [
      " 54%|█████▎    | 53/99 [10:31<08:54, 11.61s/it]"
     ]
    },
    {
     "name": "stdout",
     "output_type": "stream",
     "text": [
      "'validation loss is 0.014001881168223918 '\n",
      "'validation accuracy is 0.9980755974264707 '\n",
      "'Epoch: 54'\n",
      "'training loss is 4.71599341700944e-06 '\n",
      "'training accuracy is 1.0 '\n",
      "'Epoch: 54'\n"
     ]
    },
    {
     "name": "stderr",
     "output_type": "stream",
     "text": [
      " 55%|█████▍    | 54/99 [10:42<08:46, 11.71s/it]"
     ]
    },
    {
     "name": "stdout",
     "output_type": "stream",
     "text": [
      "'validation loss is 0.013990701985312626 '\n",
      "'validation accuracy is 0.9980905330882355 '\n",
      "'Epoch: 55'\n",
      "'training loss is 3.919230950113145e-06 '\n",
      "'training accuracy is 1.0 '\n",
      "'Epoch: 55'\n"
     ]
    },
    {
     "name": "stderr",
     "output_type": "stream",
     "text": [
      " 56%|█████▌    | 55/99 [10:55<08:45, 11.94s/it]"
     ]
    },
    {
     "name": "stdout",
     "output_type": "stream",
     "text": [
      "'validation loss is 0.01503933925414458 '\n",
      "'validation accuracy is 0.9981295955882354 '\n",
      "'Epoch: 56'\n",
      "'training loss is 3.340388198363737e-06 '\n",
      "'training accuracy is 1.0 '\n",
      "'Epoch: 56'\n"
     ]
    },
    {
     "name": "stderr",
     "output_type": "stream",
     "text": [
      " 57%|█████▋    | 56/99 [11:07<08:33, 11.94s/it]"
     ]
    },
    {
     "name": "stdout",
     "output_type": "stream",
     "text": [
      "'validation loss is 0.014673952851444483 '\n",
      "'validation accuracy is 0.9980951286764705 '\n",
      "'Epoch: 57'\n",
      "'training loss is 2.959757057685962e-06 '\n",
      "'training accuracy is 1.0 '\n",
      "'Epoch: 57'\n"
     ]
    },
    {
     "name": "stderr",
     "output_type": "stream",
     "text": [
      " 58%|█████▊    | 57/99 [11:18<08:15, 11.80s/it]"
     ]
    },
    {
     "name": "stdout",
     "output_type": "stream",
     "text": [
      "'validation loss is 0.014255123963812366 '\n",
      "'validation accuracy is 0.9981393612132352 '\n",
      "'Epoch: 58'\n",
      "'training loss is 2.605687739760778e-06 '\n",
      "'training accuracy is 1.0 '\n",
      "'Epoch: 58'\n"
     ]
    },
    {
     "name": "stderr",
     "output_type": "stream",
     "text": [
      " 59%|█████▊    | 58/99 [11:29<07:53, 11.55s/it]"
     ]
    },
    {
     "name": "stdout",
     "output_type": "stream",
     "text": [
      "'validation loss is 0.015119314519688487 '\n",
      "'validation accuracy is 0.9981491268382354 '\n",
      "'Epoch: 59'\n",
      "'training loss is 2.3516812856834836e-06 '\n",
      "'training accuracy is 1.0 '\n",
      "'Epoch: 59'\n"
     ]
    },
    {
     "name": "stderr",
     "output_type": "stream",
     "text": [
      " 60%|█████▉    | 59/99 [11:41<07:37, 11.44s/it]"
     ]
    },
    {
     "name": "stdout",
     "output_type": "stream",
     "text": [
      "'validation loss is 0.015329988550365669 '\n",
      "'validation accuracy is 0.9981514246323527 '\n",
      "'Epoch: 60'\n",
      "'training loss is 2.117882732766517e-06 '\n",
      "'training accuracy is 1.0 '\n",
      "'Epoch: 60'\n"
     ]
    },
    {
     "name": "stderr",
     "output_type": "stream",
     "text": [
      " 61%|██████    | 60/99 [11:51<07:18, 11.23s/it]"
     ]
    },
    {
     "name": "stdout",
     "output_type": "stream",
     "text": [
      "'validation loss is 0.015856305198394694 '\n",
      "'validation accuracy is 0.9980974264705882 '\n",
      "'Epoch: 61'\n",
      "'training loss is 1.915368163163024e-06 '\n",
      "'training accuracy is 1.0 '\n",
      "'Epoch: 61'\n"
     ]
    },
    {
     "name": "stderr",
     "output_type": "stream",
     "text": [
      " 62%|██████▏   | 61/99 [12:02<07:03, 11.14s/it]"
     ]
    },
    {
     "name": "stdout",
     "output_type": "stream",
     "text": [
      "'validation loss is 0.015208913953392767 '\n",
      "'validation accuracy is 0.998193359375 '\n",
      "'Epoch: 62'\n",
      "'training loss is 1.7522384799023665e-06 '\n",
      "'training accuracy is 1.0 '\n",
      "'Epoch: 62'\n"
     ]
    },
    {
     "name": "stderr",
     "output_type": "stream",
     "text": [
      " 63%|██████▎   | 62/99 [12:13<06:49, 11.07s/it]"
     ]
    },
    {
     "name": "stdout",
     "output_type": "stream",
     "text": [
      "'validation loss is 0.015371602913364767 '\n",
      "'validation accuracy is 0.9981565946691177 '\n",
      "'Epoch: 63'\n",
      "'training loss is 1.582288228395925e-06 '\n",
      "'training accuracy is 1.0 '\n",
      "'Epoch: 63'\n"
     ]
    },
    {
     "name": "stderr",
     "output_type": "stream",
     "text": [
      " 64%|██████▎   | 63/99 [12:25<06:42, 11.18s/it]"
     ]
    },
    {
     "name": "stdout",
     "output_type": "stream",
     "text": [
      "'validation loss is 0.01581473118858412 '\n",
      "'validation accuracy is 0.9981318933823526 '\n",
      "'Epoch: 64'\n",
      "'training loss is 1.5089747273481468e-06 '\n",
      "'training accuracy is 1.0 '\n",
      "'Epoch: 64'\n"
     ]
    },
    {
     "name": "stderr",
     "output_type": "stream",
     "text": [
      " 65%|██████▍   | 64/99 [12:36<06:32, 11.22s/it]"
     ]
    },
    {
     "name": "stdout",
     "output_type": "stream",
     "text": [
      "'validation loss is 0.015423537887727434 '\n",
      "'validation accuracy is 0.9981835937500001 '\n",
      "'Epoch: 65'\n",
      "'training loss is 1.3522022892132908e-06 '\n",
      "'training accuracy is 1.0 '\n",
      "'Epoch: 65'\n"
     ]
    },
    {
     "name": "stderr",
     "output_type": "stream",
     "text": [
      " 66%|██████▌   | 65/99 [12:47<06:24, 11.32s/it]"
     ]
    },
    {
     "name": "stdout",
     "output_type": "stream",
     "text": [
      "'validation loss is 0.0157077708048746 '\n",
      "'validation accuracy is 0.9980974264705884 '\n",
      "'Epoch: 66'\n",
      "'training loss is 1.2294605621034754e-06 '\n",
      "'training accuracy is 1.0 '\n",
      "'Epoch: 66'\n"
     ]
    },
    {
     "name": "stderr",
     "output_type": "stream",
     "text": [
      " 67%|██████▋   | 66/99 [12:58<06:11, 11.25s/it]"
     ]
    },
    {
     "name": "stdout",
     "output_type": "stream",
     "text": [
      "'validation loss is 0.015571902482770383 '\n",
      "'validation accuracy is 0.9981565946691177 '\n",
      "'Epoch: 67'\n",
      "'training loss is 1.1375039348641015e-06 '\n",
      "'training accuracy is 1.0 '\n",
      "'Epoch: 67'\n"
     ]
    },
    {
     "name": "stderr",
     "output_type": "stream",
     "text": [
      " 68%|██████▊   | 67/99 [13:09<05:53, 11.04s/it]"
     ]
    },
    {
     "name": "stdout",
     "output_type": "stream",
     "text": [
      "'validation loss is 0.01587944864295423 '\n",
      "'validation accuracy is 0.9981565946691177 '\n",
      "'Epoch: 68'\n",
      "'training loss is 1.055906932932985e-06 '\n",
      "'training accuracy is 1.0 '\n",
      "'Epoch: 68'\n"
     ]
    },
    {
     "name": "stderr",
     "output_type": "stream",
     "text": [
      " 69%|██████▊   | 68/99 [13:19<05:35, 10.84s/it]"
     ]
    },
    {
     "name": "stdout",
     "output_type": "stream",
     "text": [
      "'validation loss is 0.016772483778186142 '\n",
      "'validation accuracy is 0.9981123621323528 '\n",
      "'Epoch: 69'\n",
      "'training loss is 1.0047598295668033e-06 '\n",
      "'training accuracy is 1.0 '\n",
      "'Epoch: 69'\n"
     ]
    },
    {
     "name": "stderr",
     "output_type": "stream",
     "text": [
      " 70%|██████▉   | 69/99 [13:30<05:22, 10.75s/it]"
     ]
    },
    {
     "name": "stdout",
     "output_type": "stream",
     "text": [
      "'validation loss is 0.0167618368024705 '\n",
      "'validation accuracy is 0.9981123621323528 '\n",
      "'Epoch: 70'\n",
      "'training loss is 9.127903468706174e-07 '\n",
      "'training accuracy is 1.0 '\n",
      "'Epoch: 70'\n"
     ]
    },
    {
     "name": "stderr",
     "output_type": "stream",
     "text": [
      " 71%|███████   | 70/99 [13:41<05:13, 10.81s/it]"
     ]
    },
    {
     "name": "stdout",
     "output_type": "stream",
     "text": [
      "'validation loss is 0.01760597008978948 '\n",
      "'validation accuracy is 0.9981565946691177 '\n",
      "'Epoch: 71'\n",
      "'training loss is 8.581713997051662e-07 '\n",
      "'training accuracy is 1.0 '\n",
      "'Epoch: 71'\n"
     ]
    },
    {
     "name": "stderr",
     "output_type": "stream",
     "text": [
      " 72%|███████▏  | 71/99 [13:52<05:09, 11.05s/it]"
     ]
    },
    {
     "name": "stdout",
     "output_type": "stream",
     "text": [
      "'validation loss is 0.017166581700439564 '\n",
      "'validation accuracy is 0.9981393612132352 '\n",
      "'Epoch: 72'\n",
      "'training loss is 7.968147349016609e-07 '\n",
      "'training accuracy is 1.0 '\n",
      "'Epoch: 72'\n"
     ]
    },
    {
     "name": "stderr",
     "output_type": "stream",
     "text": [
      " 73%|███████▎  | 72/99 [14:04<05:04, 11.26s/it]"
     ]
    },
    {
     "name": "stdout",
     "output_type": "stream",
     "text": [
      "'validation loss is 0.017067116202088072 '\n",
      "'validation accuracy is 0.9980876608455882 '\n",
      "'Epoch: 73'\n",
      "'training loss is 7.332217184895498e-07 '\n",
      "'training accuracy is 1.0 '\n",
      "'Epoch: 73'\n"
     ]
    },
    {
     "name": "stderr",
     "output_type": "stream",
     "text": [
      " 74%|███████▎  | 73/99 [14:16<04:54, 11.33s/it]"
     ]
    },
    {
     "name": "stdout",
     "output_type": "stream",
     "text": [
      "'validation loss is 0.016909096966264768 '\n",
      "'validation accuracy is 0.9981468290441174 '\n",
      "'Epoch: 74'\n",
      "'training loss is 6.908417078474779e-07 '\n",
      "'training accuracy is 1.0 '\n",
      "'Epoch: 74'\n"
     ]
    },
    {
     "name": "stderr",
     "output_type": "stream",
     "text": [
      " 75%|███████▍  | 74/99 [14:28<04:47, 11.51s/it]"
     ]
    },
    {
     "name": "stdout",
     "output_type": "stream",
     "text": [
      "'validation loss is 0.018206025462131948 '\n",
      "'validation accuracy is 0.9981123621323528 '\n",
      "'Epoch: 75'\n",
      "'training loss is 6.43651715971003e-07 '\n",
      "'training accuracy is 1.0 '\n",
      "'Epoch: 75'\n"
     ]
    },
    {
     "name": "stderr",
     "output_type": "stream",
     "text": [
      " 76%|███████▌  | 75/99 [14:39<04:34, 11.44s/it]"
     ]
    },
    {
     "name": "stdout",
     "output_type": "stream",
     "text": [
      "'validation loss is 0.017983644641935824 '\n",
      "'validation accuracy is 0.998112362132353 '\n",
      "'Epoch: 76'\n",
      "'training loss is 5.9609514335513e-07 '\n",
      "'training accuracy is 1.0 '\n",
      "'Epoch: 76'\n"
     ]
    },
    {
     "name": "stderr",
     "output_type": "stream",
     "text": [
      " 77%|███████▋  | 76/99 [14:50<04:19, 11.30s/it]"
     ]
    },
    {
     "name": "stdout",
     "output_type": "stream",
     "text": [
      "'validation loss is 0.017019345285370947 '\n",
      "'validation accuracy is 0.9981565946691177 '\n",
      "'Epoch: 77'\n",
      "'training loss is 5.609383718498236e-07 '\n",
      "'training accuracy is 1.0 '\n",
      "'Epoch: 77'\n"
     ]
    },
    {
     "name": "stderr",
     "output_type": "stream",
     "text": [
      " 78%|███████▊  | 77/99 [15:01<04:08, 11.29s/it]"
     ]
    },
    {
     "name": "stdout",
     "output_type": "stream",
     "text": [
      "'validation loss is 0.01746358022792265 '\n",
      "'validation accuracy is 0.9980951286764705 '\n",
      "'Epoch: 78'\n",
      "'training loss is 5.226742631020126e-07 '\n",
      "'training accuracy is 1.0 '\n",
      "'Epoch: 78'\n"
     ]
    },
    {
     "name": "stderr",
     "output_type": "stream",
     "text": [
      " 79%|███████▉  | 78/99 [15:12<03:54, 11.16s/it]"
     ]
    },
    {
     "name": "stdout",
     "output_type": "stream",
     "text": [
      "'validation loss is 0.01717313735280186 '\n",
      "'validation accuracy is 0.9981295955882354 '\n",
      "'Epoch: 79'\n",
      "'training loss is 4.886411383994281e-07 '\n",
      "'training accuracy is 1.0 '\n",
      "'Epoch: 79'\n"
     ]
    },
    {
     "name": "stderr",
     "output_type": "stream",
     "text": [
      " 80%|███████▉  | 79/99 [15:22<03:38, 10.95s/it]"
     ]
    },
    {
     "name": "stdout",
     "output_type": "stream",
     "text": [
      "'validation loss is 0.017148291884223 '\n",
      "'validation accuracy is 0.9981468290441177 '\n",
      "'Epoch: 80'\n",
      "'training loss is 4.600984928491486e-07 '\n",
      "'training accuracy is 1.0 '\n",
      "'Epoch: 80'\n"
     ]
    },
    {
     "name": "stderr",
     "output_type": "stream",
     "text": [
      " 81%|████████  | 80/99 [15:33<03:27, 10.95s/it]"
     ]
    },
    {
     "name": "stdout",
     "output_type": "stream",
     "text": [
      "'validation loss is 0.01749336994253099 '\n",
      "'validation accuracy is 0.9981295955882352 '\n",
      "'Epoch: 81'\n",
      "'training loss is 4.2856792395885973e-07 '\n",
      "'training accuracy is 1.0 '\n",
      "'Epoch: 81'\n"
     ]
    },
    {
     "name": "stderr",
     "output_type": "stream",
     "text": [
      " 82%|████████▏ | 81/99 [15:45<03:20, 11.15s/it]"
     ]
    },
    {
     "name": "stdout",
     "output_type": "stream",
     "text": [
      "'validation loss is 0.01756172112072818 '\n",
      "'validation accuracy is 0.998112362132353 '\n",
      "'Epoch: 82'\n",
      "'training loss is 4.009468908296106e-07 '\n",
      "'training accuracy is 1.0 '\n",
      "'Epoch: 82'\n"
     ]
    },
    {
     "name": "stderr",
     "output_type": "stream",
     "text": [
      " 83%|████████▎ | 82/99 [15:57<03:12, 11.33s/it]"
     ]
    },
    {
     "name": "stdout",
     "output_type": "stream",
     "text": [
      "'validation loss is 0.01785985508468002 '\n",
      "'validation accuracy is 0.9980876608455883 '\n",
      "'Epoch: 83'\n",
      "'training loss is 3.7482657688769905e-07 '\n",
      "'training accuracy is 1.0 '\n",
      "'Epoch: 83'\n"
     ]
    },
    {
     "name": "stderr",
     "output_type": "stream",
     "text": [
      " 84%|████████▍ | 83/99 [16:08<03:00, 11.30s/it]"
     ]
    },
    {
     "name": "stdout",
     "output_type": "stream",
     "text": [
      "'validation loss is 0.017489497945643962 '\n",
      "'validation accuracy is 0.9981393612132354 '\n",
      "'Epoch: 84'\n",
      "'training loss is 3.498928455256264e-07 '\n",
      "'training accuracy is 1.0 '\n",
      "'Epoch: 84'\n"
     ]
    },
    {
     "name": "stderr",
     "output_type": "stream",
     "text": [
      " 85%|████████▍ | 84/99 [16:19<02:48, 11.26s/it]"
     ]
    },
    {
     "name": "stdout",
     "output_type": "stream",
     "text": [
      "'validation loss is 0.019303285729256457 '\n",
      "'validation accuracy is 0.9980606617647059 '\n",
      "'Epoch: 85'\n",
      "'training loss is 3.3083369478212287e-07 '\n",
      "'training accuracy is 1.0 '\n",
      "'Epoch: 85'\n"
     ]
    },
    {
     "name": "stderr",
     "output_type": "stream",
     "text": [
      " 86%|████████▌ | 85/99 [16:30<02:33, 10.99s/it]"
     ]
    },
    {
     "name": "stdout",
     "output_type": "stream",
     "text": [
      "'validation loss is 0.017499174177646636 '\n",
      "'validation accuracy is 0.9981565946691175 '\n",
      "'Epoch: 86'\n",
      "'training loss is 3.0908277177590595e-07 '\n",
      "'training accuracy is 1.0 '\n",
      "'Epoch: 86'\n"
     ]
    },
    {
     "name": "stderr",
     "output_type": "stream",
     "text": [
      " 87%|████████▋ | 86/99 [16:41<02:23, 11.07s/it]"
     ]
    },
    {
     "name": "stdout",
     "output_type": "stream",
     "text": [
      "'validation loss is 0.017606584087479858 '\n",
      "'validation accuracy is 0.9981761259191175 '\n",
      "'Epoch: 87'\n",
      "'training loss is 2.899713366145526e-07 '\n",
      "'training accuracy is 1.0 '\n",
      "'Epoch: 87'\n"
     ]
    },
    {
     "name": "stderr",
     "output_type": "stream",
     "text": [
      " 88%|████████▊ | 87/99 [16:52<02:13, 11.16s/it]"
     ]
    },
    {
     "name": "stdout",
     "output_type": "stream",
     "text": [
      "'validation loss is 0.017572489330086684 '\n",
      "'validation accuracy is 0.9981738281249999 '\n",
      "'Epoch: 88'\n",
      "'training loss is 2.703241084688316e-07 '\n",
      "'training accuracy is 1.0 '\n",
      "'Epoch: 88'\n"
     ]
    },
    {
     "name": "stderr",
     "output_type": "stream",
     "text": [
      " 89%|████████▉ | 88/99 [17:03<02:01, 11.05s/it]"
     ]
    },
    {
     "name": "stdout",
     "output_type": "stream",
     "text": [
      "'validation loss is 0.018075752712320536 '\n",
      "'validation accuracy is 0.9980778952205883 '\n",
      "'Epoch: 89'\n",
      "'training loss is 2.554512735428689e-07 '\n",
      "'training accuracy is 1.0 '\n",
      "'Epoch: 89'\n"
     ]
    },
    {
     "name": "stderr",
     "output_type": "stream",
     "text": [
      " 90%|████████▉ | 89/99 [17:13<01:47, 10.77s/it]"
     ]
    },
    {
     "name": "stdout",
     "output_type": "stream",
     "text": [
      "'validation loss is 0.018373998609604314 '\n",
      "'validation accuracy is 0.998089958639706 '\n",
      "'Epoch: 90'\n",
      "'training loss is 2.382586286456691e-07 '\n",
      "'training accuracy is 1.0 '\n",
      "'Epoch: 90'\n"
     ]
    },
    {
     "name": "stderr",
     "output_type": "stream",
     "text": [
      " 91%|█████████ | 90/99 [17:23<01:35, 10.61s/it]"
     ]
    },
    {
     "name": "stdout",
     "output_type": "stream",
     "text": [
      "'validation loss is 0.017752862939232728 '\n",
      "'validation accuracy is 0.99818359375 '\n",
      "'Epoch: 91'\n",
      "'training loss is 2.2677847236996328e-07 '\n",
      "'training accuracy is 1.0 '\n",
      "'Epoch: 91'\n"
     ]
    },
    {
     "name": "stderr",
     "output_type": "stream",
     "text": [
      " 92%|█████████▏| 91/99 [17:34<01:25, 10.68s/it]"
     ]
    },
    {
     "name": "stdout",
     "output_type": "stream",
     "text": [
      "'validation loss is 0.01795728401048109 '\n",
      "'validation accuracy is 0.9981491268382354 '\n",
      "'Epoch: 92'\n",
      "'training loss is 2.0901357941167954e-07 '\n",
      "'training accuracy is 1.0 '\n",
      "'Epoch: 92'\n"
     ]
    },
    {
     "name": "stderr",
     "output_type": "stream",
     "text": [
      " 93%|█████████▎| 92/99 [17:45<01:14, 10.63s/it]"
     ]
    },
    {
     "name": "stdout",
     "output_type": "stream",
     "text": [
      "'validation loss is 0.018365905876271425 '\n",
      "'validation accuracy is 0.9981221277573529 '\n",
      "'Epoch: 93'\n",
      "'training loss is 1.9701947369976282e-07 '\n",
      "'training accuracy is 1.0 '\n",
      "'Epoch: 93'\n"
     ]
    },
    {
     "name": "stderr",
     "output_type": "stream",
     "text": [
      " 94%|█████████▍| 93/99 [17:55<01:03, 10.60s/it]"
     ]
    },
    {
     "name": "stdout",
     "output_type": "stream",
     "text": [
      "'validation loss is 0.018037840025499463 '\n",
      "'validation accuracy is 0.9981416590073527 '\n",
      "'Epoch: 94'\n",
      "'training loss is 1.839684167565064e-07 '\n",
      "'training accuracy is 1.0 '\n",
      "'Epoch: 94'\n"
     ]
    },
    {
     "name": "stderr",
     "output_type": "stream",
     "text": [
      " 95%|█████████▍| 94/99 [18:06<00:53, 10.78s/it]"
     ]
    },
    {
     "name": "stdout",
     "output_type": "stream",
     "text": [
      "'validation loss is 0.01808584837708622 '\n",
      "'validation accuracy is 0.9981761259191178 '\n",
      "'Epoch: 95'\n",
      "'training loss is 1.738435545122283e-07 '\n",
      "'training accuracy is 1.0 '\n",
      "'Epoch: 95'\n"
     ]
    },
    {
     "name": "stderr",
     "output_type": "stream",
     "text": [
      " 96%|█████████▌| 95/99 [18:17<00:42, 10.58s/it]"
     ]
    },
    {
     "name": "stdout",
     "output_type": "stream",
     "text": [
      "'validation loss is 0.019260719101293945 '\n",
      "'validation accuracy is 0.9981416590073527 '\n",
      "'Epoch: 96'\n",
      "'training loss is 1.6231859802025506e-07 '\n",
      "'training accuracy is 1.0 '\n",
      "'Epoch: 96'\n"
     ]
    },
    {
     "name": "stderr",
     "output_type": "stream",
     "text": [
      " 97%|█████████▋| 96/99 [18:26<00:30, 10.33s/it]"
     ]
    },
    {
     "name": "stdout",
     "output_type": "stream",
     "text": [
      "'validation loss is 0.018587533570826053 '\n",
      "'validation accuracy is 0.9980974264705882 '\n",
      "'Epoch: 97'\n",
      "'training loss is 1.5224026507992722e-07 '\n",
      "'training accuracy is 1.0 '\n",
      "'Epoch: 97'\n"
     ]
    },
    {
     "name": "stderr",
     "output_type": "stream",
     "text": [
      " 98%|█████████▊| 97/99 [18:36<00:20, 10.01s/it]"
     ]
    },
    {
     "name": "stdout",
     "output_type": "stream",
     "text": [
      "'validation loss is 0.01813466616513324 '\n",
      "'validation accuracy is 0.998193359375 '\n",
      "'Epoch: 98'\n",
      "'training loss is 1.4230964023206093e-07 '\n",
      "'training accuracy is 1.0 '\n",
      "'Epoch: 98'\n"
     ]
    },
    {
     "name": "stderr",
     "output_type": "stream",
     "text": [
      " 99%|█████████▉| 98/99 [18:45<00:09,  9.75s/it]"
     ]
    },
    {
     "name": "stdout",
     "output_type": "stream",
     "text": [
      "'validation loss is 0.020432183693628758 '\n",
      "'validation accuracy is 0.9981588924632355 '\n",
      "'Epoch: 99'\n",
      "'training loss is 1.340740962169544e-07 '\n",
      "'training accuracy is 1.0 '\n",
      "'Epoch: 99'\n"
     ]
    },
    {
     "name": "stderr",
     "output_type": "stream",
     "text": [
      "100%|██████████| 99/99 [18:55<00:00, 11.47s/it]"
     ]
    },
    {
     "name": "stdout",
     "output_type": "stream",
     "text": [
      "'validation loss is 0.019310073857195676 '\n",
      "'validation accuracy is 0.9981761259191175 '\n"
     ]
    },
    {
     "name": "stderr",
     "output_type": "stream",
     "text": [
      "\n"
     ]
    }
   ],
   "source": [
    "for i in tqdm(range(1, 100)):\n",
    "    trn_l, trn_a = fit_model(i, model, train_dataloader)\n",
    "    val_l, val_a = fit_model(i, model, valid_dataloader, phase = 'validation')\n",
    "    trn_losses.append(trn_l); trn_acc.append(trn_a)\n",
    "    val_losses.append(val_l); val_acc.append(val_a)\n"
   ]
  },
  {
   "cell_type": "code",
   "execution_count": null,
   "id": "bf6b3d36",
   "metadata": {},
   "outputs": [],
   "source": [
    "# torch.save(model.state_dict(), 'fmnist_cls.pth')"
   ]
  },
  {
   "cell_type": "code",
   "execution_count": 34,
   "id": "e6ef9be3",
   "metadata": {},
   "outputs": [],
   "source": [
    "torch.save(model.state_dict(), 'mnist_cls.pth')"
   ]
  },
  {
   "cell_type": "code",
   "execution_count": 36,
   "id": "c100b32b",
   "metadata": {},
   "outputs": [
    {
     "data": {
      "text/plain": [
       "OrderedDict([('ConvLayer1.0.weight',\n",
       "              tensor([[[[-0.1949, -0.2522, -0.0634],\n",
       "                        [-0.2989, -0.3038,  0.0752],\n",
       "                        [-0.1874, -0.3041, -0.2010]]],\n",
       "              \n",
       "              \n",
       "                      [[[-0.0373, -0.4029, -0.5336],\n",
       "                        [ 0.1049,  0.3303,  0.1575],\n",
       "                        [ 0.1089, -0.1217,  0.2125]]],\n",
       "              \n",
       "              \n",
       "                      [[[-0.4524, -0.6305, -0.2909],\n",
       "                        [ 0.3512,  0.1451, -0.2453],\n",
       "                        [ 0.0589,  0.1881, -0.0802]]],\n",
       "              \n",
       "              \n",
       "                      [[[-0.0771, -0.0533, -0.3265],\n",
       "                        [ 0.2933,  0.4565, -0.3581],\n",
       "                        [-0.1597,  0.2504, -0.0838]]],\n",
       "              \n",
       "              \n",
       "                      [[[-0.4206,  0.0419,  0.3321],\n",
       "                        [-0.2757,  0.1838,  0.3252],\n",
       "                        [-0.2093,  0.1091,  0.2257]]],\n",
       "              \n",
       "              \n",
       "                      [[[ 0.0511,  0.0344,  0.0718],\n",
       "                        [-0.4754, -0.2573,  0.0537],\n",
       "                        [-0.1989,  0.3091,  0.4579]]],\n",
       "              \n",
       "              \n",
       "                      [[[ 0.1597, -0.0302,  0.0864],\n",
       "                        [-0.0985,  0.1392, -0.3787],\n",
       "                        [-0.2352,  0.3236,  0.0801]]],\n",
       "              \n",
       "              \n",
       "                      [[[-0.1941,  0.4439, -0.1779],\n",
       "                        [-0.0424,  0.5790, -0.3994],\n",
       "                        [ 0.2252, -0.0408, -0.4854]]],\n",
       "              \n",
       "              \n",
       "                      [[[ 0.0194, -0.3421, -0.3251],\n",
       "                        [-0.1853,  0.0884,  0.1927],\n",
       "                        [ 0.2277,  0.2542,  0.0543]]],\n",
       "              \n",
       "              \n",
       "                      [[[ 0.4602,  0.3185,  0.1670],\n",
       "                        [ 0.1584, -0.1566, -0.4497],\n",
       "                        [-0.5134, -0.3678, -0.0797]]],\n",
       "              \n",
       "              \n",
       "                      [[[-0.1561,  0.0334,  0.2369],\n",
       "                        [-0.1201, -0.2080,  0.0929],\n",
       "                        [-0.4471,  0.0309,  0.4031]]],\n",
       "              \n",
       "              \n",
       "                      [[[ 0.4108,  0.1254, -0.3831],\n",
       "                        [ 0.1363,  0.2094, -0.1727],\n",
       "                        [-0.3209, -0.0864,  0.2989]]],\n",
       "              \n",
       "              \n",
       "                      [[[ 0.1436, -0.1476,  0.2218],\n",
       "                        [ 0.1519,  0.1190,  0.2325],\n",
       "                        [-0.1550, -0.3883, -0.0634]]],\n",
       "              \n",
       "              \n",
       "                      [[[ 0.0499, -0.2918, -0.1246],\n",
       "                        [-0.4185,  0.0515,  0.4072],\n",
       "                        [ 0.2501,  0.2920, -0.2170]]],\n",
       "              \n",
       "              \n",
       "                      [[[-0.4573, -0.1464,  0.3577],\n",
       "                        [ 0.1284, -0.2216,  0.4130],\n",
       "                        [-0.2022,  0.2985, -0.2842]]],\n",
       "              \n",
       "              \n",
       "                      [[[-0.0623, -0.3327, -0.0443],\n",
       "                        [-0.2321,  0.3251, -0.0469],\n",
       "                        [-0.0347, -0.2065, -0.0504]]],\n",
       "              \n",
       "              \n",
       "                      [[[ 0.2581,  0.3030, -0.2723],\n",
       "                        [-0.1007, -0.0856,  0.0012],\n",
       "                        [ 0.1728,  0.0329, -0.5049]]],\n",
       "              \n",
       "              \n",
       "                      [[[ 0.1527,  0.1834,  0.2977],\n",
       "                        [-0.1602,  0.0891, -0.2134],\n",
       "                        [-0.5491, -0.5299, -0.1448]]],\n",
       "              \n",
       "              \n",
       "                      [[[-0.1562, -0.0973,  0.0621],\n",
       "                        [ 0.1130,  0.1046,  0.2431],\n",
       "                        [ 0.1337, -0.0145, -0.3000]]],\n",
       "              \n",
       "              \n",
       "                      [[[-0.0127,  0.1866, -0.1225],\n",
       "                        [ 0.1411, -0.1712,  0.2357],\n",
       "                        [-0.2344, -0.0269,  0.2186]]],\n",
       "              \n",
       "              \n",
       "                      [[[ 0.2062, -0.1429, -0.1469],\n",
       "                        [-0.0993, -0.3220,  0.2355],\n",
       "                        [ 0.1431,  0.2352,  0.3200]]],\n",
       "              \n",
       "              \n",
       "                      [[[-0.1492,  0.2617,  0.2136],\n",
       "                        [ 0.0396, -0.1263,  0.3140],\n",
       "                        [-0.3118, -0.1630,  0.2634]]],\n",
       "              \n",
       "              \n",
       "                      [[[ 0.0985, -0.2071,  0.0948],\n",
       "                        [ 0.3148,  0.0883,  0.3371],\n",
       "                        [-0.4424,  0.0295, -0.3243]]],\n",
       "              \n",
       "              \n",
       "                      [[[-0.1732,  0.2944, -0.0189],\n",
       "                        [ 0.1925, -0.1752, -0.0608],\n",
       "                        [ 0.2560,  0.2804, -0.3359]]],\n",
       "              \n",
       "              \n",
       "                      [[[-0.2174, -0.2246, -0.1712],\n",
       "                        [ 0.2974, -0.8242, -0.3587],\n",
       "                        [-0.2904, -0.2386, -0.1228]]],\n",
       "              \n",
       "              \n",
       "                      [[[ 0.0752, -0.0198, -0.3449],\n",
       "                        [ 0.3553, -0.1112, -0.2208],\n",
       "                        [ 0.0523,  0.3152,  0.1543]]],\n",
       "              \n",
       "              \n",
       "                      [[[-0.1349, -0.4185, -0.3101],\n",
       "                        [-0.1699,  0.0448,  0.1929],\n",
       "                        [ 0.3253,  0.4029,  0.0787]]],\n",
       "              \n",
       "              \n",
       "                      [[[ 0.5428,  0.0961, -0.0081],\n",
       "                        [ 0.0481, -0.2106, -0.1036],\n",
       "                        [-0.4344, -0.2004,  0.2983]]],\n",
       "              \n",
       "              \n",
       "                      [[[-0.2673, -0.0143, -0.3054],\n",
       "                        [-0.1295,  0.2520,  0.0078],\n",
       "                        [ 0.1581,  0.2204, -0.1572]]],\n",
       "              \n",
       "              \n",
       "                      [[[ 0.0936,  0.2376,  0.0501],\n",
       "                        [-0.3782, -0.1947,  0.1502],\n",
       "                        [ 0.1726,  0.1079,  0.2773]]],\n",
       "              \n",
       "              \n",
       "                      [[[-0.0766,  0.1954,  0.2737],\n",
       "                        [-0.1385, -0.3412,  0.3430],\n",
       "                        [-0.4139,  0.0627,  0.3156]]],\n",
       "              \n",
       "              \n",
       "                      [[[ 0.2020,  0.1044, -0.4118],\n",
       "                        [-0.0112,  0.0479,  0.2131],\n",
       "                        [-0.2746,  0.2290,  0.2805]]],\n",
       "              \n",
       "              \n",
       "                      [[[ 0.2958, -0.1047, -0.2661],\n",
       "                        [ 0.3457, -0.0087, -0.5228],\n",
       "                        [ 0.1403, -0.4996,  0.0645]]],\n",
       "              \n",
       "              \n",
       "                      [[[ 0.3067,  0.0664, -0.3205],\n",
       "                        [-0.0081, -0.1312, -0.5352],\n",
       "                        [-0.1457, -0.7314,  0.1700]]],\n",
       "              \n",
       "              \n",
       "                      [[[ 0.3283,  0.0151,  0.2654],\n",
       "                        [-0.3521, -0.4851, -0.3489],\n",
       "                        [-0.3006,  0.0441, -0.2334]]],\n",
       "              \n",
       "              \n",
       "                      [[[ 0.1953,  0.3341,  0.1111],\n",
       "                        [-0.0190, -0.0611,  0.0909],\n",
       "                        [-0.1328,  0.1866,  0.0309]]],\n",
       "              \n",
       "              \n",
       "                      [[[-0.2391, -0.0388,  0.2975],\n",
       "                        [ 0.0706,  0.3053, -0.0860],\n",
       "                        [ 0.1680, -0.2508, -0.1941]]],\n",
       "              \n",
       "              \n",
       "                      [[[ 0.1957,  0.2889, -0.3813],\n",
       "                        [ 0.0503,  0.2270, -0.0128],\n",
       "                        [-0.2919,  0.3347,  0.1529]]],\n",
       "              \n",
       "              \n",
       "                      [[[-0.0073, -0.3955, -0.1613],\n",
       "                        [ 0.4089, -0.2785, -0.3749],\n",
       "                        [ 0.4379,  0.4235,  0.0283]]],\n",
       "              \n",
       "              \n",
       "                      [[[-0.0082,  0.1718,  0.0540],\n",
       "                        [-0.3317,  0.2249,  0.2673],\n",
       "                        [ 0.1013, -0.1857,  0.3154]]],\n",
       "              \n",
       "              \n",
       "                      [[[ 0.0784,  0.1288,  0.2995],\n",
       "                        [-0.2457, -0.1411, -0.1989],\n",
       "                        [-0.1860,  0.0677, -0.3473]]],\n",
       "              \n",
       "              \n",
       "                      [[[ 0.2609,  0.3388,  0.1073],\n",
       "                        [ 0.0918, -0.1439, -0.2455],\n",
       "                        [-0.3487,  0.1525, -0.2602]]],\n",
       "              \n",
       "              \n",
       "                      [[[ 0.3849, -0.1491, -0.4191],\n",
       "                        [-0.0167,  0.0879,  0.3821],\n",
       "                        [-0.0026, -0.0585, -0.0403]]],\n",
       "              \n",
       "              \n",
       "                      [[[-0.1555, -0.0428, -0.1405],\n",
       "                        [ 0.0919,  0.1473, -0.3017],\n",
       "                        [-0.1596, -0.1725, -0.0010]]],\n",
       "              \n",
       "              \n",
       "                      [[[ 0.3615,  0.2159, -0.4221],\n",
       "                        [-0.1587, -0.2289, -0.5183],\n",
       "                        [ 0.1174, -0.1819, -0.3802]]],\n",
       "              \n",
       "              \n",
       "                      [[[-0.0167,  0.2293, -0.3102],\n",
       "                        [-0.3125,  0.3846, -0.2170],\n",
       "                        [ 0.0941,  0.0118, -0.0156]]],\n",
       "              \n",
       "              \n",
       "                      [[[-0.4740,  0.1572,  0.2140],\n",
       "                        [-0.4592, -0.2218,  0.4391],\n",
       "                        [ 0.0036, -0.7657, -0.5313]]],\n",
       "              \n",
       "              \n",
       "                      [[[ 0.3537,  0.2430,  0.3128],\n",
       "                        [-0.2520,  0.0435, -0.2621],\n",
       "                        [-0.1417, -0.4333,  0.2248]]],\n",
       "              \n",
       "              \n",
       "                      [[[ 0.1790,  0.1006, -0.2704],\n",
       "                        [-0.7762, -0.6650, -0.1877],\n",
       "                        [ 0.0595,  0.4222,  0.2085]]],\n",
       "              \n",
       "              \n",
       "                      [[[-0.1117, -0.4413, -0.2465],\n",
       "                        [-0.4496, -0.1964,  0.4321],\n",
       "                        [-0.0207,  0.5289,  0.3515]]],\n",
       "              \n",
       "              \n",
       "                      [[[-0.1564,  0.1478, -0.2200],\n",
       "                        [ 0.3227,  0.3445, -0.4437],\n",
       "                        [-0.2570,  0.4549,  0.1381]]],\n",
       "              \n",
       "              \n",
       "                      [[[ 0.1803,  0.1103,  0.2481],\n",
       "                        [ 0.0579,  0.2589,  0.0019],\n",
       "                        [-0.4461, -0.2567,  0.0873]]],\n",
       "              \n",
       "              \n",
       "                      [[[-0.1876,  0.3633,  0.1218],\n",
       "                        [-0.2251, -0.2432,  0.3559],\n",
       "                        [-0.3829, -0.2924,  0.3962]]],\n",
       "              \n",
       "              \n",
       "                      [[[-0.2915, -0.3297,  0.1429],\n",
       "                        [ 0.0805,  0.2732,  0.1277],\n",
       "                        [ 0.0724, -0.2410, -0.0508]]],\n",
       "              \n",
       "              \n",
       "                      [[[-0.0271,  0.3903, -0.3484],\n",
       "                        [ 0.2103, -0.1145, -0.0932],\n",
       "                        [ 0.3002,  0.0681, -0.3524]]],\n",
       "              \n",
       "              \n",
       "                      [[[ 0.2200, -0.2776, -0.1365],\n",
       "                        [-0.0718,  0.3659,  0.1426],\n",
       "                        [-0.2015, -0.1900,  0.1568]]],\n",
       "              \n",
       "              \n",
       "                      [[[ 0.3733,  0.2501,  0.4626],\n",
       "                        [-0.3377, -0.2416,  0.1336],\n",
       "                        [-0.0044, -0.3717, -0.3572]]],\n",
       "              \n",
       "              \n",
       "                      [[[-0.0071,  0.4740,  0.0756],\n",
       "                        [ 0.3842, -0.0059, -0.1949],\n",
       "                        [ 0.0469, -0.3051, -0.3732]]],\n",
       "              \n",
       "              \n",
       "                      [[[ 0.2560,  0.0388, -0.1470],\n",
       "                        [-0.3108, -0.2205, -0.2716],\n",
       "                        [ 0.3293,  0.0361,  0.4167]]],\n",
       "              \n",
       "              \n",
       "                      [[[ 0.1234, -0.1600,  0.1272],\n",
       "                        [ 0.0832,  0.0045,  0.2178],\n",
       "                        [ 0.2719,  0.2245,  0.0730]]],\n",
       "              \n",
       "              \n",
       "                      [[[-0.5365, -0.1652,  0.1090],\n",
       "                        [-0.4046,  0.3526,  0.2991],\n",
       "                        [-0.3488,  0.0323,  0.4327]]],\n",
       "              \n",
       "              \n",
       "                      [[[-0.2442, -0.4832, -0.3120],\n",
       "                        [ 0.1246,  0.0681, -0.1322],\n",
       "                        [ 0.1133,  0.5128,  0.0767]]],\n",
       "              \n",
       "              \n",
       "                      [[[ 0.0817,  0.2521, -0.1730],\n",
       "                        [ 0.1953, -0.1117,  0.2215],\n",
       "                        [ 0.1615, -0.0542,  0.2807]]],\n",
       "              \n",
       "              \n",
       "                      [[[ 0.2274, -0.4409,  0.1865],\n",
       "                        [ 0.1220, -0.3281,  0.0373],\n",
       "                        [-0.0226,  0.1633,  0.1824]]]], device='cuda:0')),\n",
       "             ('ConvLayer1.0.bias',\n",
       "              tensor([-1.6995e-01,  1.0288e-01,  2.0442e-01,  1.9128e-02, -3.1013e-02,\n",
       "                      -7.8509e-03, -1.0105e-01, -5.9311e-02,  1.0769e-02,  7.1567e-03,\n",
       "                       1.7235e-05, -1.9955e-01, -1.6774e-03, -3.6303e-02,  5.1982e-06,\n",
       "                      -2.1582e-01, -5.2320e-03,  2.9368e-01, -4.3800e-02, -5.7167e-02,\n",
       "                      -9.1351e-02, -8.1803e-02, -8.7877e-04, -1.6322e-01,  3.3418e-01,\n",
       "                      -1.2124e-01, -6.3771e-06, -3.2254e-02,  5.7074e-02, -1.6470e-01,\n",
       "                      -2.1301e-01, -7.2605e-02,  7.0618e-03,  2.1758e-01,  2.7008e-01,\n",
       "                      -3.6132e-01, -5.6151e-03, -2.3823e-01, -5.4971e-02, -1.4531e-01,\n",
       "                       1.7228e-01, -1.7946e-02, -1.4342e-01, -2.2504e-01,  2.0886e-01,\n",
       "                      -1.5597e-03,  1.9420e-01, -2.0982e-02,  1.0382e-01, -1.6276e-03,\n",
       "                      -1.5217e-01, -1.4111e-01, -1.3461e-02,  1.7099e-05, -7.6378e-02,\n",
       "                      -4.7545e-02, -4.4298e-04, -1.1965e-01, -4.9317e-02, -3.5659e-01,\n",
       "                      -2.2234e-01,  3.2382e-02, -2.8537e-01, -2.9061e-02], device='cuda:0')),\n",
       "             ('ConvLayer2.0.weight',\n",
       "              tensor([[[[-4.6241e-03, -3.4376e-02,  3.6921e-02],\n",
       "                        [-2.5333e-02, -3.1598e-02,  3.9244e-02],\n",
       "                        [-9.9789e-03, -2.3364e-02,  3.8327e-02]],\n",
       "              \n",
       "                       [[-4.5682e-03,  1.8966e-02,  1.9698e-02],\n",
       "                        [-6.3166e-02,  1.8300e-04, -6.4267e-02],\n",
       "                        [-3.8471e-02, -3.0221e-03, -3.4797e-02]],\n",
       "              \n",
       "                       [[-3.9465e-02,  2.0162e-02,  9.7790e-03],\n",
       "                        [-3.1297e-02, -8.9342e-03,  5.5389e-02],\n",
       "                        [-4.0471e-02, -5.4743e-02,  1.8426e-02]],\n",
       "              \n",
       "                       ...,\n",
       "              \n",
       "                       [[ 2.7713e-02, -1.5167e-02, -1.8954e-02],\n",
       "                        [-6.9413e-03, -3.8049e-02,  4.3248e-02],\n",
       "                        [-4.1393e-02,  9.2647e-03,  3.5061e-03]],\n",
       "              \n",
       "                       [[ 2.6574e-02, -4.4189e-02,  2.5834e-02],\n",
       "                        [ 3.5508e-03, -2.6744e-02,  4.4654e-03],\n",
       "                        [-3.8898e-02,  2.2416e-02, -1.2769e-02]],\n",
       "              \n",
       "                       [[-1.3904e-02, -4.2094e-03, -2.5755e-02],\n",
       "                        [-6.2038e-03,  1.0976e-02,  1.1806e-02],\n",
       "                        [ 2.4769e-02, -1.9759e-03, -5.8785e-02]]],\n",
       "              \n",
       "              \n",
       "                      [[[ 1.7566e-02, -1.2059e-02,  1.2711e-02],\n",
       "                        [-1.1408e-02, -2.3757e-02, -1.1032e-02],\n",
       "                        [-8.0654e-03,  3.2281e-04,  1.9938e-03]],\n",
       "              \n",
       "                       [[ 8.4127e-02,  2.1207e-02,  8.0740e-02],\n",
       "                        [-1.2094e-02, -5.8183e-02, -8.8002e-02],\n",
       "                        [-9.8712e-02, -1.9923e-01, -2.3061e-02]],\n",
       "              \n",
       "                       [[ 4.3948e-02,  2.3907e-02,  6.4150e-03],\n",
       "                        [ 1.0990e-02, -7.1200e-02, -1.7315e-01],\n",
       "                        [-8.0865e-02, -1.6135e-01, -6.1108e-02]],\n",
       "              \n",
       "                       ...,\n",
       "              \n",
       "                       [[-1.8192e-02, -4.7497e-02, -5.8042e-02],\n",
       "                        [-8.4027e-02, -8.5434e-02, -2.1283e-01],\n",
       "                        [-1.6177e-01, -2.6365e-01, -1.8063e-01]],\n",
       "              \n",
       "                       [[ 4.2031e-02,  2.4685e-02,  4.7620e-02],\n",
       "                        [-5.1486e-02,  5.6440e-02,  5.8079e-02],\n",
       "                        [ 6.8849e-03,  7.0957e-02, -1.6633e-02]],\n",
       "              \n",
       "                       [[-3.0725e-02,  5.5082e-03,  9.7925e-02],\n",
       "                        [-7.8720e-03,  8.1839e-02,  4.9009e-02],\n",
       "                        [ 5.3433e-02, -1.1869e-02,  4.7954e-04]]],\n",
       "              \n",
       "              \n",
       "                      [[[-8.8156e-03, -4.1861e-03,  1.7955e-02],\n",
       "                        [ 1.3136e-02,  2.4071e-02, -2.6387e-02],\n",
       "                        [-3.0272e-02,  2.8177e-03, -2.2596e-02]],\n",
       "              \n",
       "                       [[-4.4944e-02, -2.6245e-02, -1.9842e-03],\n",
       "                        [ 1.7001e-02, -1.1873e-01, -5.1076e-02],\n",
       "                        [-4.0640e-02, -3.5560e-03,  4.9056e-02]],\n",
       "              \n",
       "                       [[-1.1257e-01, -1.2726e-01, -1.8380e-01],\n",
       "                        [-4.0093e-02, -7.4208e-02, -1.0504e-04],\n",
       "                        [ 1.4552e-02, -1.9090e-02,  2.2377e-02]],\n",
       "              \n",
       "                       ...,\n",
       "              \n",
       "                       [[-5.2686e-02,  4.5314e-03, -7.5733e-02],\n",
       "                        [ 2.8395e-02, -5.1555e-02,  1.0133e-01],\n",
       "                        [-4.5852e-02,  1.0110e-01,  1.2338e-01]],\n",
       "              \n",
       "                       [[-2.2302e-04, -1.1704e-03,  3.2546e-02],\n",
       "                        [-4.5492e-02, -2.1599e-02, -5.3841e-02],\n",
       "                        [-1.0029e-01, -7.0665e-02, -2.4279e-02]],\n",
       "              \n",
       "                       [[ 4.4527e-02,  4.1622e-02,  2.9802e-02],\n",
       "                        [ 1.2279e-02, -4.9459e-03, -1.4670e-02],\n",
       "                        [-9.1243e-02, -5.4932e-03, -2.6780e-02]]],\n",
       "              \n",
       "              \n",
       "                      ...,\n",
       "              \n",
       "              \n",
       "                      [[[-1.2218e-02,  5.9615e-05, -6.0165e-03],\n",
       "                        [-3.4234e-02,  1.9425e-02, -2.8819e-03],\n",
       "                        [ 2.4413e-02,  8.6235e-03,  8.5649e-04]],\n",
       "              \n",
       "                       [[ 4.2415e-02, -2.7929e-02,  1.1023e-02],\n",
       "                        [ 1.1367e-01, -5.6224e-02, -6.8940e-02],\n",
       "                        [ 6.0623e-02, -5.4545e-02, -1.9351e-01]],\n",
       "              \n",
       "                       [[-3.4043e-03, -8.3882e-02, -7.6907e-02],\n",
       "                        [ 7.5258e-02, -8.8073e-02, -1.9032e-01],\n",
       "                        [ 4.6660e-02, -1.0033e-01, -1.3279e-01]],\n",
       "              \n",
       "                       ...,\n",
       "              \n",
       "                       [[ 1.2209e-02, -1.2712e-01,  6.3442e-03],\n",
       "                        [ 5.7729e-02, -3.8744e-02, -1.2521e-01],\n",
       "                        [-6.0377e-02, -8.9176e-03, -2.6959e-01]],\n",
       "              \n",
       "                       [[-5.9293e-02,  1.5828e-02,  2.9306e-02],\n",
       "                        [ 1.4791e-02, -2.5319e-03, -1.9863e-02],\n",
       "                        [ 9.8169e-02,  7.3506e-02, -6.4581e-02]],\n",
       "              \n",
       "                       [[ 5.4071e-02, -5.1664e-02,  1.5185e-01],\n",
       "                        [ 8.8494e-03,  1.1018e-02, -3.1131e-02],\n",
       "                        [ 3.7106e-02, -6.8268e-04, -1.0552e-01]]],\n",
       "              \n",
       "              \n",
       "                      [[[-2.6359e-02,  2.2132e-02, -5.0561e-03],\n",
       "                        [-3.7773e-02,  3.8083e-02, -1.1641e-02],\n",
       "                        [ 2.8772e-02, -3.7468e-02, -3.6314e-02]],\n",
       "              \n",
       "                       [[ 5.2692e-04, -4.3198e-02,  7.2022e-02],\n",
       "                        [-5.4782e-02,  1.0276e-03, -5.0046e-02],\n",
       "                        [ 7.3830e-04, -4.8489e-02, -1.0568e-01]],\n",
       "              \n",
       "                       [[-1.4035e-02, -1.0014e-01, -6.9986e-02],\n",
       "                        [-2.7169e-02,  6.6016e-02, -7.5450e-02],\n",
       "                        [-1.1846e-02,  3.7687e-02, -4.2013e-02]],\n",
       "              \n",
       "                       ...,\n",
       "              \n",
       "                       [[ 2.3751e-02,  3.3681e-04,  1.2862e-02],\n",
       "                        [-3.9746e-02,  7.5134e-02, -4.5418e-02],\n",
       "                        [ 5.6096e-02,  1.5156e-01,  4.4260e-02]],\n",
       "              \n",
       "                       [[ 3.0438e-02,  3.6268e-03,  5.3950e-02],\n",
       "                        [-1.7824e-02,  2.4739e-02,  2.7937e-02],\n",
       "                        [-2.9588e-02, -8.0074e-02, -6.2302e-02]],\n",
       "              \n",
       "                       [[ 1.7617e-02, -1.2231e-02,  4.4253e-02],\n",
       "                        [ 8.0805e-03, -2.9156e-02,  1.2507e-02],\n",
       "                        [ 8.1334e-03, -4.1465e-02, -5.8300e-02]]],\n",
       "              \n",
       "              \n",
       "                      [[[ 2.8317e-02, -2.6074e-02,  4.8966e-03],\n",
       "                        [ 8.6219e-03, -7.4558e-03,  8.1100e-03],\n",
       "                        [-3.7105e-02,  3.5866e-02, -3.4789e-02]],\n",
       "              \n",
       "                       [[-7.6117e-02, -1.6385e-01, -1.2715e-01],\n",
       "                        [-9.8959e-02, -4.5818e-02, -9.1762e-03],\n",
       "                        [ 1.2954e-01,  6.8355e-02,  1.8543e-02]],\n",
       "              \n",
       "                       [[-1.3443e-01, -1.6653e-01,  7.7750e-04],\n",
       "                        [-1.3783e-02, -5.5637e-02,  3.1211e-02],\n",
       "                        [ 2.1263e-02, -4.4636e-02, -1.1969e-02]],\n",
       "              \n",
       "                       ...,\n",
       "              \n",
       "                       [[-5.7883e-02,  5.6686e-03,  5.3934e-02],\n",
       "                        [-1.9132e-01,  3.3640e-02,  3.4677e-02],\n",
       "                        [ 1.7966e-01,  8.1013e-02, -1.0866e-01]],\n",
       "              \n",
       "                       [[ 4.1883e-03,  1.9316e-02,  4.8413e-02],\n",
       "                        [-6.2005e-02, -2.6434e-02, -9.5613e-02],\n",
       "                        [-9.5323e-02, -7.8686e-02, -8.6293e-02]],\n",
       "              \n",
       "                       [[ 3.8618e-04, -8.5259e-04, -2.3785e-02],\n",
       "                        [-1.4312e-02,  5.5628e-04, -6.4221e-02],\n",
       "                        [-4.9650e-02,  1.9712e-02,  2.6128e-03]]]], device='cuda:0')),\n",
       "             ('ConvLayer2.0.bias',\n",
       "              tensor([-0.0331, -0.0375, -0.0686, -0.0434, -0.0079, -0.0369, -0.0773, -0.0269,\n",
       "                      -0.0108, -0.0387,  0.0359, -0.0371, -0.0448, -0.0802, -0.0842, -0.0486,\n",
       "                      -0.0419, -0.0401,  0.0040, -0.0043,  0.0328,  0.0126,  0.0031,  0.0178,\n",
       "                      -0.0393, -0.0649, -0.0618,  0.0010, -0.0440,  0.0158,  0.0353, -0.0528,\n",
       "                      -0.0817, -0.0110, -0.0218, -0.0061, -0.0172, -0.0121,  0.0027,  0.0048,\n",
       "                      -0.0788, -0.0582, -0.0210, -0.0639, -0.0728, -0.0757, -0.0486, -0.0223,\n",
       "                      -0.0163, -0.0476, -0.0239,  0.0318, -0.0212, -0.0269,  0.0080, -0.0062,\n",
       "                      -0.0744,  0.0238, -0.0157, -0.0630, -0.0668,  0.0231, -0.0846, -0.0299,\n",
       "                      -0.0569, -0.0020, -0.0172, -0.0282, -0.0127, -0.0615, -0.0170,  0.0022,\n",
       "                       0.0472, -0.0469, -0.0089, -0.0387,  0.0194, -0.0602, -0.0347, -0.0407,\n",
       "                      -0.0440, -0.0049,  0.0336,  0.0588,  0.0143, -0.0102, -0.0671, -0.0526,\n",
       "                       0.0050, -0.0335, -0.0703, -0.0478, -0.0003, -0.0917, -0.0723, -0.0783,\n",
       "                      -0.0114, -0.0437,  0.0287, -0.0125, -0.0237,  0.0052, -0.0801, -0.0572,\n",
       "                       0.1001, -0.0365,  0.0481, -0.0449, -0.0402, -0.0742, -0.0079,  0.0088,\n",
       "                      -0.0719, -0.0695, -0.0215, -0.0327, -0.0469, -0.0162, -0.0695,  0.0215,\n",
       "                      -0.0124, -0.0155, -0.0588, -0.0513, -0.0437, -0.0287,  0.0014, -0.0392],\n",
       "                     device='cuda:0')),\n",
       "             ('ConvLayer3.0.weight',\n",
       "              tensor([[[[-0.0069, -0.0170, -0.0075],\n",
       "                        [ 0.0007, -0.0285, -0.0057],\n",
       "                        [-0.0137, -0.0249,  0.0241]],\n",
       "              \n",
       "                       [[-0.0126, -0.0100,  0.0112],\n",
       "                        [ 0.0248, -0.0135,  0.0198],\n",
       "                        [-0.0184,  0.0233, -0.0167]],\n",
       "              \n",
       "                       [[-0.0321,  0.0096, -0.0126],\n",
       "                        [-0.0429, -0.0131, -0.0037],\n",
       "                        [-0.0361,  0.0080, -0.0466]],\n",
       "              \n",
       "                       ...,\n",
       "              \n",
       "                       [[-0.0160, -0.0179, -0.0218],\n",
       "                        [ 0.0030, -0.0395,  0.0141],\n",
       "                        [-0.0098, -0.0239, -0.0218]],\n",
       "              \n",
       "                       [[-0.0244,  0.0096, -0.0293],\n",
       "                        [-0.0300, -0.0066,  0.0211],\n",
       "                        [-0.0087, -0.0180,  0.0101]],\n",
       "              \n",
       "                       [[ 0.0092, -0.0198, -0.0094],\n",
       "                        [-0.0227, -0.0182,  0.0120],\n",
       "                        [ 0.0151,  0.0077, -0.0168]]],\n",
       "              \n",
       "              \n",
       "                      [[[ 0.0044,  0.0062, -0.0123],\n",
       "                        [-0.0030,  0.0192,  0.0183],\n",
       "                        [ 0.0119,  0.0201,  0.0148]],\n",
       "              \n",
       "                       [[ 0.0397,  0.0567, -0.0366],\n",
       "                        [ 0.0328, -0.0082,  0.0091],\n",
       "                        [-0.0267,  0.0029,  0.0080]],\n",
       "              \n",
       "                       [[-0.0205,  0.0143, -0.0735],\n",
       "                        [ 0.0988,  0.0408,  0.0057],\n",
       "                        [ 0.0931, -0.0324, -0.0177]],\n",
       "              \n",
       "                       ...,\n",
       "              \n",
       "                       [[ 0.0341,  0.0213,  0.0206],\n",
       "                        [ 0.0993, -0.0221, -0.0104],\n",
       "                        [ 0.0551,  0.0225, -0.0245]],\n",
       "              \n",
       "                       [[ 0.0415,  0.0276, -0.0259],\n",
       "                        [-0.0150, -0.0194, -0.0659],\n",
       "                        [ 0.0362, -0.0337,  0.0083]],\n",
       "              \n",
       "                       [[-0.0076, -0.0238, -0.0631],\n",
       "                        [ 0.1948,  0.0557,  0.0304],\n",
       "                        [ 0.1556, -0.0953, -0.1703]]],\n",
       "              \n",
       "              \n",
       "                      [[[-0.0059, -0.0255, -0.0048],\n",
       "                        [ 0.0134, -0.0242,  0.0042],\n",
       "                        [-0.0084, -0.0176,  0.0212]],\n",
       "              \n",
       "                       [[-0.0299, -0.0122, -0.0628],\n",
       "                        [-0.0571,  0.0019, -0.0216],\n",
       "                        [-0.0193, -0.0342, -0.0413]],\n",
       "              \n",
       "                       [[ 0.0546,  0.0513, -0.0198],\n",
       "                        [-0.0629, -0.0573, -0.0824],\n",
       "                        [-0.0437, -0.0343, -0.0993]],\n",
       "              \n",
       "                       ...,\n",
       "              \n",
       "                       [[ 0.0402,  0.0516, -0.0450],\n",
       "                        [ 0.0030, -0.0668, -0.0669],\n",
       "                        [-0.0946, -0.0649, -0.0729]],\n",
       "              \n",
       "                       [[-0.0320, -0.0404, -0.0621],\n",
       "                        [ 0.0062,  0.0211, -0.0449],\n",
       "                        [-0.0236, -0.0299,  0.0186]],\n",
       "              \n",
       "                       [[-0.0481, -0.0301, -0.0111],\n",
       "                        [-0.0031, -0.0873, -0.0515],\n",
       "                        [-0.0236, -0.0991, -0.0825]]],\n",
       "              \n",
       "              \n",
       "                      ...,\n",
       "              \n",
       "              \n",
       "                      [[[-0.0024, -0.0012,  0.0035],\n",
       "                        [-0.0147, -0.0193,  0.0005],\n",
       "                        [ 0.0108,  0.0230,  0.0096]],\n",
       "              \n",
       "                       [[-0.0049, -0.0233,  0.0403],\n",
       "                        [ 0.0637,  0.0174,  0.0429],\n",
       "                        [-0.0064, -0.0256, -0.0380]],\n",
       "              \n",
       "                       [[ 0.0469,  0.0191,  0.0615],\n",
       "                        [-0.1253, -0.0035, -0.0288],\n",
       "                        [-0.0607,  0.0760,  0.0977]],\n",
       "              \n",
       "                       ...,\n",
       "              \n",
       "                       [[-0.0081,  0.0721,  0.0207],\n",
       "                        [-0.0168,  0.0272,  0.0373],\n",
       "                        [-0.0251,  0.0051,  0.1736]],\n",
       "              \n",
       "                       [[ 0.0127, -0.0441,  0.0613],\n",
       "                        [-0.0017,  0.0022,  0.0111],\n",
       "                        [ 0.0259,  0.0165, -0.0443]],\n",
       "              \n",
       "                       [[ 0.0053,  0.0363,  0.0698],\n",
       "                        [-0.0605, -0.0761,  0.0051],\n",
       "                        [ 0.0020,  0.0427,  0.0311]]],\n",
       "              \n",
       "              \n",
       "                      [[[-0.0092, -0.0052,  0.0332],\n",
       "                        [-0.0063, -0.0043,  0.0180],\n",
       "                        [ 0.0026, -0.0324, -0.0265]],\n",
       "              \n",
       "                       [[ 0.0334, -0.0321,  0.0410],\n",
       "                        [-0.0166,  0.0260, -0.0113],\n",
       "                        [-0.0105, -0.0748,  0.0077]],\n",
       "              \n",
       "                       [[ 0.1171,  0.0846,  0.1137],\n",
       "                        [-0.0119, -0.0427, -0.0225],\n",
       "                        [ 0.0188,  0.1640, -0.0914]],\n",
       "              \n",
       "                       ...,\n",
       "              \n",
       "                       [[ 0.0643,  0.0324,  0.0215],\n",
       "                        [ 0.0380,  0.0497, -0.0141],\n",
       "                        [-0.1099,  0.0713, -0.0522]],\n",
       "              \n",
       "                       [[ 0.0108,  0.0393,  0.0641],\n",
       "                        [-0.0398, -0.0611, -0.0025],\n",
       "                        [ 0.0485,  0.0494, -0.0648]],\n",
       "              \n",
       "                       [[ 0.0246,  0.0777,  0.0181],\n",
       "                        [ 0.0080,  0.0168, -0.0456],\n",
       "                        [-0.0508,  0.0881,  0.0079]]],\n",
       "              \n",
       "              \n",
       "                      [[[ 0.0164, -0.0328,  0.0031],\n",
       "                        [ 0.0340,  0.0310, -0.0195],\n",
       "                        [ 0.0104,  0.0190,  0.0166]],\n",
       "              \n",
       "                       [[ 0.0312,  0.0027, -0.0204],\n",
       "                        [-0.0513,  0.0156, -0.1452],\n",
       "                        [ 0.0076, -0.0717, -0.0798]],\n",
       "              \n",
       "                       [[-0.0443, -0.0407, -0.0757],\n",
       "                        [-0.0037,  0.0173, -0.0243],\n",
       "                        [ 0.0486,  0.0269, -0.1523]],\n",
       "              \n",
       "                       ...,\n",
       "              \n",
       "                       [[ 0.0240,  0.0373, -0.0021],\n",
       "                        [ 0.0648, -0.0037, -0.0149],\n",
       "                        [ 0.0123, -0.1070, -0.0548]],\n",
       "              \n",
       "                       [[-0.0050, -0.0992, -0.0386],\n",
       "                        [ 0.0143,  0.0260, -0.0154],\n",
       "                        [-0.0260,  0.0556, -0.0265]],\n",
       "              \n",
       "                       [[-0.0140,  0.0229,  0.1002],\n",
       "                        [ 0.1120, -0.0363,  0.1026],\n",
       "                        [-0.0437,  0.0699, -0.0070]]]], device='cuda:0')),\n",
       "             ('ConvLayer3.0.bias',\n",
       "              tensor([ 5.3688e-03, -9.6627e-03,  1.4002e-02, -8.5247e-03, -4.1683e-03,\n",
       "                       2.0730e-02,  1.5949e-02,  4.0041e-03,  7.9708e-04, -7.0665e-02,\n",
       "                       1.4107e-02,  1.4222e-02,  5.3611e-02,  1.4462e-02,  1.3973e-02,\n",
       "                       1.1447e-02,  1.8437e-03, -6.2536e-03, -3.8859e-02,  1.0861e-02,\n",
       "                      -5.3955e-02, -3.0576e-02,  9.2547e-03, -2.5397e-02, -7.1027e-03,\n",
       "                      -5.8922e-03,  1.1983e-02, -2.4745e-02, -3.0380e-02,  2.5509e-02,\n",
       "                      -1.4097e-02, -1.4693e-02,  5.9237e-02, -1.3623e-02, -1.9809e-02,\n",
       "                       2.4982e-02, -2.9047e-02,  2.3917e-02, -2.1904e-02, -6.0520e-02,\n",
       "                      -7.9556e-03,  2.1853e-02, -3.5336e-02, -2.1123e-03, -2.5826e-02,\n",
       "                       3.8100e-02, -4.5505e-02,  6.1309e-05, -3.1100e-02, -3.8285e-02,\n",
       "                       5.3533e-02, -1.1682e-02,  1.1906e-02, -1.2360e-02, -4.0011e-03,\n",
       "                      -3.9009e-02,  1.8840e-02,  1.3432e-02, -2.1990e-02,  2.8247e-02,\n",
       "                      -2.8673e-02, -3.6095e-02,  6.0051e-03,  2.7530e-03, -4.1678e-02,\n",
       "                      -2.7855e-03, -8.3938e-03,  8.7763e-04, -3.8029e-02, -2.3118e-02,\n",
       "                       4.9813e-03, -3.3236e-02, -5.2684e-02, -2.7302e-02, -5.6665e-02,\n",
       "                      -3.3288e-02, -3.6985e-02, -1.5330e-02,  2.5155e-02, -7.4490e-02,\n",
       "                       2.6591e-02,  1.8325e-03, -2.0658e-02, -2.6693e-02, -3.2017e-03,\n",
       "                       1.8236e-02, -3.2195e-02, -5.2292e-02, -4.0511e-02,  1.7212e-02,\n",
       "                       4.0240e-03,  4.1728e-03, -4.5652e-02,  2.4930e-02,  1.3074e-02,\n",
       "                       1.4356e-03,  2.2117e-02,  2.3011e-02,  7.2619e-03,  1.2912e-02,\n",
       "                      -7.9866e-03,  3.0399e-02, -1.4384e-02, -6.3366e-03, -1.5664e-02,\n",
       "                       2.6463e-03,  2.6371e-02,  9.8467e-03, -5.6594e-02, -1.8250e-02,\n",
       "                       1.0665e-02, -2.5736e-02, -1.1895e-02, -2.7070e-02, -6.9514e-03,\n",
       "                       6.7401e-03, -3.4684e-02, -1.0753e-02,  5.6288e-02,  7.8027e-03,\n",
       "                       1.9254e-03, -8.0973e-02, -4.0594e-02, -2.1081e-02,  4.0637e-03,\n",
       "                      -4.7433e-03,  3.4754e-02, -4.1679e-02, -4.1993e-02, -1.9771e-02,\n",
       "                      -3.6390e-02,  1.9981e-02, -4.0626e-02, -1.9675e-02, -2.4358e-02,\n",
       "                       1.0314e-02, -4.2850e-02, -7.9584e-03,  9.1743e-03, -3.2841e-02,\n",
       "                      -3.2479e-02, -2.3431e-02, -1.3503e-02, -1.3110e-02,  3.3583e-03,\n",
       "                      -5.2966e-04, -5.1978e-02, -3.1491e-02,  1.5093e-02, -4.2972e-03,\n",
       "                       1.3433e-03, -2.2747e-02, -2.6416e-02, -8.6744e-03,  1.3243e-03,\n",
       "                      -4.4272e-02, -6.7933e-02, -5.4312e-02, -3.8141e-02, -3.3777e-02,\n",
       "                       6.6469e-03, -8.1628e-03, -2.2605e-02, -2.2496e-03,  8.9748e-03,\n",
       "                      -1.4787e-03, -4.2429e-03, -4.0983e-03,  1.2298e-02,  1.2000e-02,\n",
       "                       2.3667e-02, -6.3499e-03,  1.4775e-02,  5.1161e-04, -1.8100e-02,\n",
       "                      -2.6395e-02, -3.9623e-02, -1.8498e-02,  7.4298e-03, -1.3245e-02,\n",
       "                      -6.6311e-03, -2.1838e-03, -1.8865e-02, -8.1101e-03, -5.4925e-03,\n",
       "                       4.0473e-02,  5.1289e-02, -4.4967e-02, -8.7717e-03, -2.4436e-02,\n",
       "                       1.8259e-02, -2.9985e-02, -2.6228e-02, -3.7586e-02, -2.5874e-02,\n",
       "                       2.8444e-02, -1.3849e-02,  2.8745e-04,  1.1160e-02,  1.4640e-02,\n",
       "                      -1.7143e-02, -4.6607e-02, -3.4788e-02, -1.2250e-02, -4.5939e-03,\n",
       "                       1.2252e-02, -1.8105e-02, -2.6631e-02,  2.7224e-02, -1.4954e-03,\n",
       "                      -2.6270e-02, -3.1017e-02, -1.5581e-02, -8.5900e-03,  7.3378e-02,\n",
       "                      -2.6722e-02,  8.4590e-03, -5.9531e-02, -3.0337e-03, -1.3984e-03,\n",
       "                       1.0092e-02,  2.9598e-02,  1.4073e-02, -3.5010e-02, -4.8731e-02,\n",
       "                      -1.3234e-03,  1.0019e-02,  9.1008e-03, -9.7866e-03, -5.3150e-02,\n",
       "                       5.5042e-03, -2.2278e-02,  2.2036e-02, -6.0880e-02, -5.1409e-03,\n",
       "                       3.8660e-03,  1.1069e-02,  8.6919e-03, -2.6074e-02,  8.2198e-03,\n",
       "                       3.9843e-02,  4.2405e-02,  1.1047e-02, -1.9560e-02,  2.0383e-03,\n",
       "                      -2.3708e-03, -2.0172e-02,  8.1447e-04, -4.1688e-02, -1.6735e-02,\n",
       "                       1.8232e-02, -1.3829e-02, -7.7532e-04, -1.0800e-02, -8.5270e-03,\n",
       "                      -1.0323e-02], device='cuda:0')),\n",
       "             ('Linear1.weight',\n",
       "              tensor([[-0.0270,  0.0012, -0.0193,  ...,  0.0052, -0.0710,  0.0030],\n",
       "                      [ 0.0412,  0.0276, -0.0150,  ...,  0.0236, -0.0508, -0.0851],\n",
       "                      [ 0.0089,  0.1071, -0.0241,  ...,  0.0595, -0.0121,  0.0256],\n",
       "                      ...,\n",
       "                      [ 0.0292, -0.0742, -0.0042,  ...,  0.0350,  0.0051, -0.1192],\n",
       "                      [-0.0188,  0.0323, -0.1118,  ...,  0.0251,  0.0305, -0.1260],\n",
       "                      [ 0.0181, -0.0521, -0.0082,  ...,  0.0492,  0.0479, -0.0433]],\n",
       "                     device='cuda:0')),\n",
       "             ('Linear1.bias',\n",
       "              tensor([-0.0014,  0.0014, -0.0173,  0.0327,  0.0128,  0.0135,  0.0232, -0.0270,\n",
       "                      -0.0504,  0.0210, -0.0419,  0.0215, -0.0033,  0.0428, -0.0458,  0.0073,\n",
       "                       0.0340,  0.0236, -0.0211, -0.0236, -0.0401,  0.0365, -0.0001,  0.0359,\n",
       "                      -0.0063,  0.0545, -0.0391, -0.0912, -0.0092, -0.0508, -0.0229, -0.0454,\n",
       "                       0.0247, -0.0735, -0.0596,  0.0394,  0.0159, -0.0605,  0.0814,  0.0021,\n",
       "                       0.0744, -0.0036,  0.0676,  0.0076, -0.0240,  0.0270,  0.0334, -0.0217,\n",
       "                      -0.0402, -0.0195, -0.0497,  0.0247,  0.0617, -0.0139,  0.0070,  0.0242,\n",
       "                       0.0139,  0.0009, -0.0528,  0.0253,  0.0068, -0.0713,  0.0785,  0.0602],\n",
       "                     device='cuda:0')),\n",
       "             ('Linear2.weight',\n",
       "              tensor([[-9.9130e-02,  1.1244e-01,  1.0239e-01, -1.2304e-01,  1.8232e-01,\n",
       "                       -1.1642e-01, -1.6791e-01, -2.5559e-01,  1.3045e-02, -1.0924e-01,\n",
       "                        1.4041e-02, -7.7158e-02, -1.6074e-01,  1.5985e-01, -2.2981e-01,\n",
       "                       -1.2007e-01, -1.1087e-01, -3.9402e-02, -2.0019e-01,  1.9690e-01,\n",
       "                        1.0772e-01, -1.8466e-01, -1.2459e-01, -2.1851e-02,  2.1379e-01,\n",
       "                        1.3892e-01, -1.4074e-01, -2.6907e-01, -2.5400e-02,  1.5452e-01,\n",
       "                       -1.9328e-01, -1.3035e-01,  1.6274e-01, -1.5944e-01, -1.3890e-01,\n",
       "                        1.7063e-01,  2.3863e-02,  1.2137e-01,  1.7251e-01,  1.3706e-01,\n",
       "                       -3.9570e-02, -1.0049e-01,  7.3569e-02, -1.0366e-02,  1.4214e-01,\n",
       "                       -3.1956e-02,  1.0265e-01,  8.2924e-03,  8.5762e-02,  1.3284e-01,\n",
       "                       -1.8631e-01,  5.7617e-02,  1.7744e-01,  4.6925e-02,  5.2162e-02,\n",
       "                        1.8597e-01,  9.4385e-02,  8.2880e-02,  7.2754e-02, -1.2543e-02,\n",
       "                        5.0832e-03,  2.1668e-02, -2.6858e-03,  1.0037e-01],\n",
       "                      [-2.0994e-02, -8.6910e-02, -1.4496e-01,  1.9266e-01, -1.4016e-01,\n",
       "                       -2.1664e-02,  1.4600e-01, -1.0332e-01, -2.0720e-01, -2.7735e-01,\n",
       "                        7.1029e-02, -1.4142e-01,  6.4386e-02, -4.5425e-02, -1.0070e-01,\n",
       "                        7.3555e-02,  2.1972e-02, -2.2496e-02,  3.1226e-02,  2.0923e-01,\n",
       "                       -2.0489e-01,  2.4990e-01,  2.4420e-02,  6.9332e-02,  1.3001e-01,\n",
       "                       -1.9992e-01,  1.8375e-01, -2.0167e-01, -1.9228e-01, -2.1588e-01,\n",
       "                        1.6764e-01,  1.6739e-01,  7.6247e-02,  5.7984e-02, -1.3796e-01,\n",
       "                       -6.0267e-02,  5.9335e-02, -1.9750e-01,  4.6688e-02, -2.3191e-01,\n",
       "                        1.9818e-01,  2.6194e-01, -2.0433e-01, -2.3034e-01, -1.6049e-01,\n",
       "                        8.3895e-02, -6.8275e-02, -2.8128e-01,  2.0809e-01,  7.9229e-02,\n",
       "                       -4.8732e-02,  8.3932e-02, -7.4298e-02,  2.7264e-01,  1.3910e-01,\n",
       "                       -7.4142e-03, -1.7018e-02, -1.5557e-01, -1.3906e-01, -2.1674e-01,\n",
       "                        1.6212e-01, -1.6116e-02, -1.0833e-01,  2.3846e-02],\n",
       "                      [-2.3921e-01,  4.5463e-02,  2.3313e-01, -2.3676e-01, -3.4957e-02,\n",
       "                        1.3446e-01,  1.0292e-01,  9.0348e-02,  2.6683e-02,  9.0979e-02,\n",
       "                       -1.2086e-01,  1.6769e-01,  6.2117e-02,  2.2444e-01, -9.3135e-02,\n",
       "                       -2.3218e-01,  6.5627e-03, -6.7628e-02, -1.3704e-01,  1.0569e-01,\n",
       "                       -1.4512e-01,  2.7665e-01, -1.2805e-01,  1.8305e-01, -1.6840e-01,\n",
       "                       -1.2902e-01, -1.3793e-01,  7.3438e-02, -5.6261e-02,  7.4754e-02,\n",
       "                        1.8782e-01, -2.8031e-02,  2.7269e-01, -3.6103e-03, -1.2576e-02,\n",
       "                        1.1209e-01, -1.9774e-01,  4.1025e-02, -1.8615e-02,  1.5939e-01,\n",
       "                        5.4133e-02,  1.6961e-02,  3.9084e-03,  1.3611e-01,  2.0445e-01,\n",
       "                        1.6586e-01,  1.7279e-01,  1.7170e-01, -7.4831e-02,  4.0366e-02,\n",
       "                       -2.5827e-02, -7.1231e-02,  7.2026e-02,  2.0277e-03,  9.5877e-02,\n",
       "                       -1.7323e-01, -1.5746e-01,  5.1954e-03, -1.4577e-01, -1.8827e-01,\n",
       "                        6.3626e-02,  1.0625e-01,  1.2366e-01,  1.9795e-01],\n",
       "                      [ 7.9649e-02, -6.4580e-02, -7.4668e-02,  1.5114e-01,  5.3770e-02,\n",
       "                        3.8512e-02,  1.8023e-02,  1.2793e-01, -1.4886e-01, -1.5071e-01,\n",
       "                        1.2900e-01,  8.8743e-02,  1.9671e-02, -1.4929e-03, -8.3799e-02,\n",
       "                       -6.6411e-03,  1.5817e-01,  1.6851e-01, -1.1967e-01, -1.6047e-01,\n",
       "                        1.5958e-01,  4.6485e-02,  2.4304e-01, -1.7412e-01, -1.4180e-01,\n",
       "                        1.7043e-01, -1.6390e-01, -9.4826e-02,  1.2942e-01,  1.0308e-01,\n",
       "                        1.4512e-01, -1.7775e-01, -2.5084e-01,  1.9247e-01, -1.1655e-01,\n",
       "                        1.1431e-01, -3.6611e-02, -2.4795e-01,  1.8882e-01,  9.3081e-02,\n",
       "                        7.3999e-02, -7.6032e-02,  9.6449e-02, -1.2316e-01, -1.6269e-01,\n",
       "                       -6.2055e-02, -1.8936e-01,  1.2263e-01,  5.5672e-02,  7.0899e-02,\n",
       "                       -4.6558e-02,  4.9531e-02, -1.0884e-01, -2.5326e-03, -2.3292e-01,\n",
       "                       -1.8974e-01, -2.3389e-01, -1.4538e-01, -1.2288e-01,  2.5995e-02,\n",
       "                        1.4971e-02,  2.6927e-01,  1.1274e-01,  1.8953e-01],\n",
       "                      [-7.7431e-02, -3.2751e-02,  2.9072e-02, -1.4595e-01, -1.2323e-01,\n",
       "                        3.5442e-02,  2.2560e-01, -1.6418e-02,  1.3896e-01, -1.1288e-01,\n",
       "                       -2.5216e-02, -1.9705e-01,  1.5697e-01, -9.7427e-02,  2.2073e-01,\n",
       "                        1.4709e-01,  5.4631e-02, -9.5749e-02,  1.3163e-02,  1.0090e-01,\n",
       "                        1.4679e-01,  1.7540e-01,  1.2583e-01, -1.7976e-01,  2.4672e-01,\n",
       "                       -1.7698e-01,  9.9913e-04,  1.9092e-01,  1.4924e-01, -1.3594e-01,\n",
       "                       -2.1045e-01,  1.4166e-01,  1.1991e-01, -7.0434e-02, -6.2967e-02,\n",
       "                       -1.9647e-01, -1.6970e-01, -2.0856e-01, -1.5306e-01,  1.3135e-01,\n",
       "                       -2.3021e-01,  3.7555e-03, -4.4773e-03, -1.7022e-01,  9.8799e-02,\n",
       "                       -7.5216e-02,  1.5459e-01, -1.7896e-03,  6.4366e-02, -5.9150e-02,\n",
       "                       -3.3323e-02,  1.3979e-01,  6.3998e-02,  9.0777e-02, -6.7603e-02,\n",
       "                        1.5320e-01, -1.7813e-01, -1.2938e-01,  1.3278e-01, -6.4831e-02,\n",
       "                        9.8750e-02, -1.6191e-01, -1.8270e-01, -1.3279e-01],\n",
       "                      [ 5.9439e-02, -1.4394e-02, -1.2561e-01,  1.3085e-01,  9.7268e-02,\n",
       "                        2.4835e-02, -7.8795e-02, -1.4621e-01,  2.8158e-01, -9.6581e-02,\n",
       "                       -1.2863e-01, -2.3735e-01, -2.2407e-01, -1.0004e-01, -1.7870e-01,\n",
       "                        9.3362e-02,  7.1474e-02,  1.3318e-01,  2.3940e-01, -1.7527e-01,\n",
       "                        1.3794e-01, -1.0142e-01, -1.9562e-01,  1.3609e-01, -1.0129e-01,\n",
       "                       -3.1662e-02, -1.3654e-01,  8.3097e-02, -8.2426e-02, -8.9064e-03,\n",
       "                        1.7135e-01,  6.4996e-02,  7.5095e-02, -5.4929e-02,  7.5485e-02,\n",
       "                        1.2422e-01, -4.7446e-02, -1.0673e-01, -2.2281e-01, -1.1332e-01,\n",
       "                        1.9213e-01,  5.6180e-04, -3.5172e-02,  9.6727e-02, -7.3181e-02,\n",
       "                       -1.8952e-01, -1.8706e-01,  1.1799e-01,  2.8450e-02,  3.2843e-02,\n",
       "                       -2.1569e-01, -1.2456e-01, -2.3406e-01,  1.0981e-01, -8.6407e-02,\n",
       "                        8.6542e-02,  8.4408e-02, -1.7497e-01,  1.3222e-01,  7.1790e-02,\n",
       "                       -8.5109e-02, -4.8772e-02, -2.1668e-01,  9.0549e-02],\n",
       "                      [ 1.5060e-01,  2.1109e-01,  1.6760e-01, -8.1606e-02,  2.6094e-01,\n",
       "                       -2.5677e-01,  1.6924e-01, -5.2330e-02,  7.3651e-02, -2.0428e-01,\n",
       "                       -1.7281e-01,  5.8594e-02, -2.3403e-01, -2.6160e-01, -2.0058e-01,\n",
       "                       -9.3943e-02,  1.4630e-01,  1.9257e-01, -2.3284e-01,  1.0450e-01,\n",
       "                       -9.5716e-02,  9.1189e-02,  2.3305e-03,  1.0041e-02, -5.5564e-02,\n",
       "                       -4.3276e-02, -5.6707e-02,  1.0082e-01, -3.7992e-03,  6.8988e-02,\n",
       "                        1.7404e-01,  1.1869e-01, -5.1765e-02, -1.8965e-01,  8.0475e-02,\n",
       "                       -4.7611e-02,  6.6515e-02,  1.5962e-01, -1.5357e-01, -2.1318e-01,\n",
       "                       -3.7361e-02,  8.4356e-02,  1.4825e-01, -6.9579e-02, -2.2843e-02,\n",
       "                       -2.0498e-01, -1.4696e-01, -9.7579e-03,  2.2795e-02, -1.8766e-01,\n",
       "                       -6.5142e-02, -8.4325e-02, -1.5013e-01,  1.3869e-01,  1.3080e-02,\n",
       "                        1.3763e-01,  5.2414e-02,  1.8565e-01, -1.5559e-01,  2.1300e-01,\n",
       "                        2.6622e-01,  1.3750e-01,  1.7425e-01, -1.6563e-01],\n",
       "                      [ 1.2123e-01,  8.0755e-02,  3.5125e-01, -2.8686e-01,  1.9100e-01,\n",
       "                        1.6574e-01,  1.2327e-01,  4.9690e-02, -8.1333e-02,  1.6157e-01,\n",
       "                        2.1673e-01,  1.2961e-01, -1.2429e-02,  1.3121e-01,  5.5563e-02,\n",
       "                        1.2959e-02, -5.0169e-03,  9.5756e-02, -1.0211e-01, -1.3336e-01,\n",
       "                       -6.4637e-02,  3.1026e-01, -6.7795e-02, -2.0424e-01,  1.4760e-01,\n",
       "                        1.6434e-04, -1.2037e-02,  4.1608e-02, -1.7157e-01, -2.0961e-01,\n",
       "                        5.7343e-02, -1.1393e-01, -1.4868e-01,  3.1537e-02, -2.0597e-02,\n",
       "                       -3.7390e-02,  1.1381e-01,  9.5285e-02,  4.8138e-02,  1.3404e-01,\n",
       "                       -2.7895e-02,  1.3327e-02, -2.5726e-01,  1.8724e-01, -1.4128e-01,\n",
       "                        1.3153e-01, -6.7843e-02, -5.4398e-02,  9.2602e-02,  2.0648e-01,\n",
       "                        8.8908e-02,  1.3607e-02,  7.2997e-02, -4.4710e-03, -1.2928e-01,\n",
       "                        5.4785e-02,  2.4850e-01, -1.4186e-01, -1.5389e-02, -1.7378e-01,\n",
       "                       -5.2111e-02,  2.8447e-03, -1.7537e-01, -1.6980e-01],\n",
       "                      [-5.8607e-02,  7.7597e-02, -1.1033e-01, -7.1366e-02,  1.2645e-02,\n",
       "                        1.2841e-01,  4.4015e-02,  1.0239e-01,  1.7995e-01,  1.0305e-01,\n",
       "                       -1.0102e-01,  1.0350e-01, -1.5807e-01,  3.8323e-02,  1.7388e-01,\n",
       "                       -1.6861e-02, -7.2185e-02,  3.2424e-03,  1.9219e-01,  4.1299e-02,\n",
       "                       -8.7234e-02, -1.4153e-01,  1.0523e-01,  1.9787e-01, -1.0003e-01,\n",
       "                        1.0878e-02,  6.6183e-03, -7.2939e-02,  1.8089e-01,  8.7063e-02,\n",
       "                       -9.4198e-02, -1.5765e-01,  1.3675e-02,  1.9003e-01,  8.6591e-02,\n",
       "                       -9.6571e-02,  2.2900e-01, -1.1059e-01, -1.7419e-01, -1.3067e-01,\n",
       "                        1.7942e-01, -7.5081e-02, -4.2210e-02,  4.1016e-02, -9.3780e-02,\n",
       "                       -1.9964e-01, -9.4501e-02, -9.2487e-02, -9.1087e-02, -1.2172e-01,\n",
       "                        1.0309e-01, -9.4024e-02,  1.1009e-01, -1.6949e-01,  1.7773e-01,\n",
       "                        1.1778e-01, -1.6186e-01,  1.6304e-01,  1.0229e-01,  2.2213e-02,\n",
       "                       -8.7268e-02,  1.7199e-01,  2.1049e-01, -5.3495e-03],\n",
       "                      [-6.6609e-02,  9.1766e-03,  9.1327e-03,  1.1635e-02, -5.8236e-03,\n",
       "                       -6.2477e-02, -1.1288e-01,  8.2047e-02, -1.4513e-01, -2.8064e-02,\n",
       "                        1.9152e-01,  1.7491e-01, -7.3759e-02, -1.3919e-01,  4.8990e-02,\n",
       "                        1.2862e-01, -3.8416e-02, -1.0805e-01,  7.9963e-02,  8.3094e-02,\n",
       "                        1.5980e-01, -1.7490e-01, -7.3886e-02, -1.6393e-01, -4.2018e-02,\n",
       "                       -9.8656e-02, -1.2646e-01,  1.4265e-01,  5.9803e-02,  3.4304e-02,\n",
       "                       -7.6012e-02,  3.2259e-02, -1.4623e-01,  7.4130e-02, -1.0891e-01,\n",
       "                       -1.2443e-01, -1.2156e-01,  6.8597e-02,  5.1868e-02, -1.4061e-01,\n",
       "                       -2.2324e-01, -1.0528e-01, -1.6733e-01,  1.0635e-01,  8.1598e-02,\n",
       "                        1.0431e-01,  9.8892e-02,  8.4294e-02,  1.6546e-01, -8.0560e-04,\n",
       "                       -7.3222e-02,  8.6749e-02, -1.0137e-01, -9.6318e-02,  1.7016e-01,\n",
       "                        1.9879e-02,  1.9898e-01,  2.7765e-02,  4.5631e-02,  3.3900e-02,\n",
       "                       -1.0512e-01,  1.6436e-01, -2.4639e-01,  2.7330e-02]], device='cuda:0')),\n",
       "             ('Linear2.bias',\n",
       "              tensor([-0.0449,  0.0323,  0.1032,  0.0665, -0.0439, -0.1033,  0.0785,  0.0473,\n",
       "                      -0.1067, -0.0481], device='cuda:0'))])"
      ]
     },
     "execution_count": 36,
     "metadata": {},
     "output_type": "execute_result"
    }
   ],
   "source": [
    "model.state_dict()"
   ]
  },
  {
   "cell_type": "code",
   "execution_count": null,
   "id": "b34799f7",
   "metadata": {},
   "outputs": [],
   "source": []
  }
 ],
 "metadata": {
  "kernelspec": {
   "display_name": "Python 3 (ipykernel)",
   "language": "python",
   "name": "python3"
  },
  "language_info": {
   "codemirror_mode": {
    "name": "ipython",
    "version": 3
   },
   "file_extension": ".py",
   "mimetype": "text/x-python",
   "name": "python",
   "nbconvert_exporter": "python",
   "pygments_lexer": "ipython3",
   "version": "3.8.10"
  }
 },
 "nbformat": 4,
 "nbformat_minor": 5
}
